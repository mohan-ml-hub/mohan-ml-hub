{
 "cells": [
  {
   "cell_type": "code",
   "execution_count": 32,
   "metadata": {},
   "outputs": [],
   "source": [
    "import pandas as pd\n",
    "import numpy as np\n",
    "import matplotlib.pyplot as plt\n",
    "import seaborn as sns\n",
    "import tkinter as Tk\n",
    "from matplotlib.backends.backend_tkagg import FigureCanvasTkAgg\n",
    "color = sns.color_palette()\n",
    "\n",
    "\n",
    "#%matplotlib qt\n",
    "\n"
   ]
  },
  {
   "cell_type": "code",
   "execution_count": 33,
   "metadata": {
    "scrolled": true
   },
   "outputs": [],
   "source": [
    "master = Tk.Tk()"
   ]
  },
  {
   "cell_type": "code",
   "execution_count": 34,
   "metadata": {
    "scrolled": true
   },
   "outputs": [
    {
     "name": "stderr",
     "output_type": "stream",
     "text": [
      "<ipython-input-34-2599985fdc36>:2: ParserWarning: Falling back to the 'python' engine because the 'c' engine does not support regex separators (separators > 1 char and different from '\\s+' are interpreted as regex); you can avoid this warning by specifying engine='python'.\n",
      "  VMAT = pd.read_csv('RT210107_VMAT_DVH_1_edited.txt',encoding='utf-8',sep=\"\\s\\s+\")\n",
      "<ipython-input-34-2599985fdc36>:4: ParserWarning: Falling back to the 'python' engine because the 'c' engine does not support regex separators (separators > 1 char and different from '\\s+' are interpreted as regex); you can avoid this warning by specifying engine='python'.\n",
      "  D3d = pd.read_csv('RT210107_3d_DVH_1_edited.txt',encoding='utf-8' ,sep=\"\\s\\s+\")\n"
     ]
    },
    {
     "name": "stdout",
     "output_type": "stream",
     "text": [
      "<class 'pandas.core.frame.DataFrame'>\n",
      "Int64Index: 948 entries, 0 to 947\n",
      "Data columns (total 3 columns):\n",
      " #   Column          Non-Null Count  Dtype  \n",
      "---  ------          --------------  -----  \n",
      " 0   Structure_Name  948 non-null    object \n",
      " 1   Dose            948 non-null    float64\n",
      " 2   Volume          948 non-null    float64\n",
      "dtypes: float64(2), object(1)\n",
      "memory usage: 29.6+ KB\n",
      "<class 'pandas.core.frame.DataFrame'>\n",
      "Int64Index: 1506 entries, 0 to 1505\n",
      "Data columns (total 3 columns):\n",
      " #   Column          Non-Null Count  Dtype  \n",
      "---  ------          --------------  -----  \n",
      " 0   Structure_Name  1506 non-null   object \n",
      " 1   Dose            1506 non-null   float64\n",
      " 2   Volume          1506 non-null   float64\n",
      "dtypes: float64(2), object(1)\n",
      "memory usage: 47.1+ KB\n"
     ]
    }
   ],
   "source": [
    "# reading data from text edited files and changeing columns having space to _\n",
    "VMAT = pd.read_csv('RT210107_VMAT_DVH_1_edited.txt',encoding='utf-8',sep=\"\\s\\s+\")\n",
    "\n",
    "D3d = pd.read_csv('RT210107_3d_DVH_1_edited.txt',encoding='utf-8' ,sep=\"\\s\\s+\")\n",
    "VMAT.columns = [c.replace(' ', '_') for c in VMAT.columns]\n",
    "D3d.columns=[c.replace(' ','_') for c in D3d.columns]\n",
    "#print(data.groupby('Structure_Name').count())\n",
    "#data_66D1= data[data.Structure_Name==\"66D1\"]\n",
    "\n",
    "#Structure=[c.replace(' ','_') for c in [c.replace(\")\",'_') for c in [c.replace(\"(\",'_') for c in data.Structure_Name.unique()]]]\n",
    "#------------------------------------------------------------------------------------------------------\n",
    "structures_list=VMAT.Structure_Name.unique()\n",
    "#print(structures)\n",
    "#for name in Structure:\n",
    "#   globals()['string%s' % x]\n",
    "#getting list of each structure dose and volume \n",
    "VMAT_structure_list=[VMAT[VMAT.Structure_Name==structure]for structure in VMAT.Structure_Name.unique()]\n",
    "D3d_structure_list=[D3d[D3d.Structure_Name==structure]for structure in D3d.Structure_Name.unique()]\n",
    "\n",
    "\n",
    "#print(datas[1])\n",
    "VMAT_structure_list[0].info()\n",
    "D3d_structure_list[0].info()\n",
    "#data['BODY(Unsp.Tiss.)'].info()\n",
    "#print(data_66D1.head(10))\n",
    "#Brain_data=data[data.Structure_Name==\"Brain\"]\n",
    "#data_66D1.describe()\n",
    "#department=artwork.groupby('Department').Department.count()\n",
    "#plt.figure()\n",
    "#sns.lineplot(x=data_66D1.Dose, y=data_66D1.Volume)\n",
    "#sns.lineplot(x=Brain_data.Dose,y=Brain_data.Volume)\n",
    "def display_graph(x):\n",
    "        if(figure1):\n",
    "        #    plt.close()\n",
    "        figure1=plt.figure()\n",
    "        figure1.add_subplot(111)\n",
    "        bar1 = FigureCanvasTkAgg(figure1, master)\n",
    "        bar1.get_tk_widget().pack(side=Tk.LEFT, fill=Tk.BOTH)\n",
    "        plt.title(\"VMAT DOSE cGY % VOLUME\")\n",
    "        #plt.plot(x, x**3, label='cubic')\n",
    "        #plt.xlabel('x label')\n",
    "        #plt.ylabel('y label')      \n",
    "\n",
    "        \n",
    "\n",
    "        for i in x:\n",
    "            print(i)\n",
    "            #plt.plot(label=structures_list[i])\n",
    "            sns.lineplot(x=VMAT_structure_list[i].Dose, y=VMAT_structure_list[i].Volume,label=structures_list[i])\n",
    "            plt.legend()\n",
    "        \n",
    "            \n",
    "        figure2=plt.figure()\n",
    "        figure2.add_subplot(111)\n",
    "        bar2 = FigureCanvasTkAgg(figure2, master)\n",
    "        bar2.get_tk_widget().pack(side=Tk.LEFT, fill=Tk.BOTH)\n",
    "        plt.title(\"3d DOSE cGY % VOLUME\")\n",
    "        for i in x:\n",
    "            sns.lineplot(x=D3d_structure_list[i].Dose, y=D3d_structure_list[i].Volume,label=structures_list[i])  \n",
    "        return\n",
    "#display_graph((0,1))"
   ]
  },
  {
   "cell_type": "code",
   "execution_count": 35,
   "metadata": {},
   "outputs": [],
   "source": [
    "# for combining to get the doselist to plot \n",
    "def get_doselist(i):\n",
    "    dose_list=[]\n",
    "    for dose in VMAT_structure_list[i].Dose.unique():\n",
    "        for dose1 in D3d_structure_list[i].Dose.unique():\n",
    "            if (dose==dose1):\n",
    "                dose_list.append(dose)\n",
    "    return dose_list\n",
    "#dose=get_doselist(2)\n",
    "#print(dose)"
   ]
  },
  {
   "cell_type": "code",
   "execution_count": 36,
   "metadata": {},
   "outputs": [],
   "source": [
    "#display fuction call from gui to display the graph x--VMAT y--3D select for structures\n",
    "def display_graphVMAT3d(x,y,select):\n",
    "    display_graph(select)\n",
    "    figure3=plt.figure()\n",
    "    bar3 = FigureCanvasTkAgg(figure3, master)\n",
    "    bar3.get_tk_widget().pack(side=Tk.LEFT, fill=Tk.BOTH)\n",
    "    plt.title(str(x)+\"% VMAT +\" +str(y)+\"%  3D\")\n",
    "    plt.ylabel('%volume')\n",
    "    for structure in select:\n",
    "        dose=get_doselist(structure)\n",
    "        VMAT_data=VMAT_structure_list[structure].loc[VMAT_structure_list[structure].Dose.isin(dose)]\n",
    "        D3d_data=D3d_structure_list[structure].loc[D3d_structure_list[structure].Dose.isin(dose)]\n",
    "#print(x_data.head(5))\n",
    "#print(y_data.head(5))\n",
    "#print(x_data.Volume.values+y_data.Volume.values)\n",
    "#for dose1 in list_dose:\n",
    "#    print(datas[1][datas[1].Dose==dose1].Volume)\n",
    "    #volume_1.append(datas[1][datas[1].Dose==dose1].Volume+datas1[1][datas1[1].Dose==dose1].Volume)\n",
    "\n",
    "#print(len(volume_1))\n",
    "#print(volume_1)\n",
    "#+datas1[datas1[1].Dose==list_dose].Volume\n",
    "#print(volume)\n",
    "        sns.lineplot(x=VMAT_data.Dose, y=((x/100)*VMAT_data.Volume.values)+((y/100)*D3d_data.Volume.values),label=structures_list[structure])\n",
    "    return\n",
    "#display_graphVMAT3d(10,90,(0,1))"
   ]
  },
  {
   "cell_type": "code",
   "execution_count": 37,
   "metadata": {},
   "outputs": [
    {
     "name": "stdout",
     "output_type": "stream",
     "text": [
      "['66D1' 'BODY(Unsp.Tiss.)' 'Brain' 'Cochlea_L' 'Cochlea_R' 'constrictor'\n",
      " 'CTV_N 66' 'CTV_N High' 'CTV_n Inter' 'CTV_n Low' 'CTV_p HR' 'CTV_P IR'\n",
      " 'CTV_P_Low' 'Esophagus' 'Eye_Left' 'Eye_Right' 'gtvc' 'GTVn' 'GTVp'\n",
      " 'Larynx' 'Mandible' 'OralCavity' 'Parotid_L' 'Parotid_R' 'PTV_54'\n",
      " 'PTV_60' 'PTV_66' 'PTV_N 60' 'PTV_N 66' 'PTV_N_54' 'PTV_P 54' 'PTV_P 60'\n",
      " 'PTV_P 66' 'r1' 'r2' 'r3' 'SpinalCord']\n",
      "1\n"
     ]
    },
    {
     "name": "stderr",
     "output_type": "stream",
     "text": [
      "Exception in Tkinter callback\n",
      "Traceback (most recent call last):\n",
      "  File \"C:\\Users\\Admin\\anaconda3\\lib\\tkinter\\__init__.py\", line 1883, in __call__\n",
      "    return self.func(*args)\n",
      "  File \"<ipython-input-37-b798ad281b1c>\", line 7, in show_values\n",
      "    bar1 = FigureCanvasTkAgg(figure1, master)\n",
      "NameError: name 'figure1' is not defined\n"
     ]
    }
   ],
   "source": [
    "def show_values():\n",
    "    #plt.figure(figsize=(16,6))\n",
    "    #sns.barplot(x=['w','z'], y=[w1.get(),w2.get()])\n",
    "    #plt.title(\"data from slider\")\n",
    "    display_graphVMAT3d(w2.get(),100-w2.get(),lb.curselection())\n",
    "    #print (w1.get(), w2.get(),lb.curselection())\n",
    "    bar1 = FigureCanvasTkAgg(figure1, master)\n",
    "    bar1.get_tk_widget().pack(side=Tk.LEFT, fill=Tk.BOTH)\n",
    "    return\n",
    "\n",
    "label_frame = Tk.Label(master, text=\"Welcome  DVH Analysis %VMAT_DVH +  % 3d_DVH \")\n",
    "label_frame.pack()\n",
    "\n",
    "label_frame1 = Tk.Label(master, text=\"Resolution: 0.10(cm) | Bin Width: 1.0(cGy) | Dose Units: cGy | Volume Units: % \")\n",
    "label_frame1.pack()\n",
    "#list box \n",
    "#lb = Tk.Listbox(master,selectmode=Tk.MULTIPLE ,yscrollcommand)\n",
    "lb = Tk.Listbox(master,selectmode=Tk.MULTIPLE )\n",
    "\n",
    "print(structures_list)\n",
    "for i in range(len(structures_list)):\n",
    "    lb.insert(i,structures_list[i])\n",
    "#lb.yview()\n",
    "lb.pack(side=\"left\")\n",
    "#w1 = Tk.Scale(master, from_=0, to=42, tickinterval=8)\n",
    "#w1.set(19)\n",
    "#w1.pack()\n",
    "w2 = Tk.Scale(master, from_=0, length=600,to=100,tickinterval=5, orient=Tk.HORIZONTAL)\n",
    "w2.set(23)\n",
    "w2.pack()\n",
    "bottom_label = Tk.Label(master, text=\"VMAT_DVH\")\n",
    "bottom_label.pack(side=\"left\")\n",
    "bottom_label1 = Tk.Label(master, text=\"3D_DVH\")\n",
    "bottom_label1.pack(side=\"right\")\n",
    "\n",
    "\n",
    "Tk.Button(master, text='Show', command=show_values).pack()\n",
    "\n",
    "Tk.mainloop()"
   ]
  },
  {
   "cell_type": "code",
   "execution_count": null,
   "metadata": {},
   "outputs": [],
   "source": []
  },
  {
   "cell_type": "code",
   "execution_count": null,
   "metadata": {
    "scrolled": true
   },
   "outputs": [],
   "source": [
    "data1.info()\n"
   ]
  },
  {
   "cell_type": "code",
   "execution_count": null,
   "metadata": {},
   "outputs": [],
   "source": [
    "data1.head()\n",
    "data1.columns = [c.replace(' ', '_') for c in data1.columns]"
   ]
  },
  {
   "cell_type": "code",
   "execution_count": null,
   "metadata": {},
   "outputs": [],
   "source": [
    "datas1=[data1[data1.Structure_Name==structure]for structure in data1.Structure_Name.unique()]\n",
    "print(datas[1])\n",
    "datas1[1].info()\n"
   ]
  },
  {
   "cell_type": "code",
   "execution_count": null,
   "metadata": {},
   "outputs": [],
   "source": [
    "#data1['Dose'].astype(float)\n",
    "#datas=[data[data.Structure_Name==structure]for structure in data.Structure_Name.unique()]\n",
    "#print(datas[1])\n",
    "datas1[1].info()\n",
    "data2=[datas1[1][datas1[1].Dose==dose] for dose in datas[1].Dose.unique()]  \n",
    "#pd.DataFrame(data2)\n",
    "list_dose=[]\n",
    "for dose in datas[1].Dose.unique():\n",
    "    for dose1 in datas1[1].Dose.unique():\n",
    "        if (dose==dose1):\n",
    "            list_dose.append(dose)\n",
    "print(list_dose)"
   ]
  }
 ],
 "metadata": {
  "kernelspec": {
   "display_name": "Python 3",
   "language": "python",
   "name": "python3"
  },
  "language_info": {
   "codemirror_mode": {
    "name": "ipython",
    "version": 3
   },
   "file_extension": ".py",
   "mimetype": "text/x-python",
   "name": "python",
   "nbconvert_exporter": "python",
   "pygments_lexer": "ipython3",
   "version": "3.8.3"
  }
 },
 "nbformat": 4,
 "nbformat_minor": 4
}
