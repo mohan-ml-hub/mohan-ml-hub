{
 "cells": [
  {
   "cell_type": "code",
   "execution_count": 3,
   "metadata": {},
   "outputs": [
    {
     "name": "stderr",
     "output_type": "stream",
     "text": [
      "<ipython-input-3-7aa38de3a43a>:10: ParserWarning: Falling back to the 'python' engine because the 'c' engine does not support regex separators (separators > 1 char and different from '\\s+' are interpreted as regex); you can avoid this warning by specifying engine='python'.\n",
      "  data = pd.read_csv('RT210107_VMAT_DVH_1_edited.txt',encoding='utf-8',sep=\"\\s\\s+\")\n"
     ]
    }
   ],
   "source": [
    "import pandas as pd\n",
    "import numpy as np\n",
    "import matplotlib.pyplot as plt\n",
    "import seaborn as sns\n",
    "\n",
    "color = sns.color_palette()\n",
    "\n",
    "\n",
    "%matplotlib inline\n",
    "\n",
    "data = pd.read_csv('RT210107_VMAT_DVH_1_edited.txt',encoding='utf-8',sep=\"\\s\\s+\")\n",
    "#data.info()\n"
   ]
  },
  {
   "cell_type": "code",
   "execution_count": 4,
   "metadata": {
    "scrolled": true
   },
   "outputs": [
    {
     "data": {
      "text/html": [
       "<div>\n",
       "<style scoped>\n",
       "    .dataframe tbody tr th:only-of-type {\n",
       "        vertical-align: middle;\n",
       "    }\n",
       "\n",
       "    .dataframe tbody tr th {\n",
       "        vertical-align: top;\n",
       "    }\n",
       "\n",
       "    .dataframe thead th {\n",
       "        text-align: right;\n",
       "    }\n",
       "</style>\n",
       "<table border=\"1\" class=\"dataframe\">\n",
       "  <thead>\n",
       "    <tr style=\"text-align: right;\">\n",
       "      <th></th>\n",
       "      <th>Dose</th>\n",
       "      <th>Volume</th>\n",
       "    </tr>\n",
       "  </thead>\n",
       "  <tbody>\n",
       "    <tr>\n",
       "      <th>count</th>\n",
       "      <td>79162.000000</td>\n",
       "      <td>79162.000000</td>\n",
       "    </tr>\n",
       "    <tr>\n",
       "      <th>mean</th>\n",
       "      <td>4669.705920</td>\n",
       "      <td>53.371142</td>\n",
       "    </tr>\n",
       "    <tr>\n",
       "      <th>std</th>\n",
       "      <td>1895.711502</td>\n",
       "      <td>36.642208</td>\n",
       "    </tr>\n",
       "    <tr>\n",
       "      <th>min</th>\n",
       "      <td>0.000000</td>\n",
       "      <td>0.000000</td>\n",
       "    </tr>\n",
       "    <tr>\n",
       "      <th>25%</th>\n",
       "      <td>3432.500000</td>\n",
       "      <td>15.046000</td>\n",
       "    </tr>\n",
       "    <tr>\n",
       "      <th>50%</th>\n",
       "      <td>5125.000000</td>\n",
       "      <td>57.755000</td>\n",
       "    </tr>\n",
       "    <tr>\n",
       "      <th>75%</th>\n",
       "      <td>6287.500000</td>\n",
       "      <td>91.502750</td>\n",
       "    </tr>\n",
       "    <tr>\n",
       "      <th>max</th>\n",
       "      <td>7255.000000</td>\n",
       "      <td>100.000000</td>\n",
       "    </tr>\n",
       "  </tbody>\n",
       "</table>\n",
       "</div>"
      ],
      "text/plain": [
       "               Dose        Volume\n",
       "count  79162.000000  79162.000000\n",
       "mean    4669.705920     53.371142\n",
       "std     1895.711502     36.642208\n",
       "min        0.000000      0.000000\n",
       "25%     3432.500000     15.046000\n",
       "50%     5125.000000     57.755000\n",
       "75%     6287.500000     91.502750\n",
       "max     7255.000000    100.000000"
      ]
     },
     "execution_count": 4,
     "metadata": {},
     "output_type": "execute_result"
    }
   ],
   "source": [
    "data.describe()"
   ]
  },
  {
   "cell_type": "code",
   "execution_count": 117,
   "metadata": {
    "scrolled": true
   },
   "outputs": [
    {
     "name": "stdout",
     "output_type": "stream",
     "text": [
      "['66D1' 'BODY(Unsp.Tiss.)' 'Brain' 'Cochlea_L' 'Cochlea_R' 'constrictor'\n",
      " 'CTV_N 66' 'CTV_N High' 'CTV_n Inter' 'CTV_n Low' 'CTV_p HR' 'CTV_P IR'\n",
      " 'CTV_P_Low' 'Esophagus' 'Eye_Left' 'Eye_Right' 'gtvc' 'GTVn' 'GTVp'\n",
      " 'Larynx' 'Mandible' 'OralCavity' 'Parotid_L' 'Parotid_R' 'PTV_54'\n",
      " 'PTV_60' 'PTV_66' 'PTV_N 60' 'PTV_N 66' 'PTV_N_54' 'PTV_P 54' 'PTV_P 60'\n",
      " 'PTV_P 66' 'r1' 'r2' 'r3' 'SpinalCord']\n",
      "<class 'pandas.core.frame.DataFrame'>\n",
      "Int64Index: 5914 entries, 948 to 6861\n",
      "Data columns (total 3 columns):\n",
      " #   Column          Non-Null Count  Dtype  \n",
      "---  ------          --------------  -----  \n",
      " 0   Structure_Name  5914 non-null   object \n",
      " 1   Dose            5914 non-null   float64\n",
      " 2   Volume          5914 non-null   float64\n",
      "dtypes: float64(2), object(1)\n",
      "memory usage: 184.8+ KB\n"
     ]
    },
    {
     "data": {
      "text/plain": [
       "<matplotlib.axes._subplots.AxesSubplot at 0xaaee78e9d0>"
      ]
     },
     "execution_count": 117,
     "metadata": {},
     "output_type": "execute_result"
    },
    {
     "data": {
      "image/png": "[encoded data removed]",
      "text/plain": [
       "<Figure size 432x288 with 1 Axes>"
      ]
     },
     "metadata": {
      "needs_background": "light"
     },
     "output_type": "display_data"
    },
    {
     "data": {
      "image/png": "[encoded data removed]",
      "text/plain": [
       "<Figure size 432x288 with 1 Axes>"
      ]
     },
     "metadata": {
      "needs_background": "light"
     },
     "output_type": "display_data"
    }
   ],
   "source": [
    "data.columns = [c.replace(' ', '_') for c in data.columns]\n",
    "\n",
    "#print(data.groupby('Structure_Name').count())\n",
    "#data_66D1= data[data.Structure_Name==\"66D1\"]\n",
    "\n",
    "Structure=[c.replace(' ','_') for c in [c.replace(\")\",'_') for c in [c.replace(\"(\",'_') for c in data.Structure_Name.unique()]]]\n",
    "structures=data.Structure_Name.unique()\n",
    "print(structures)\n",
    "#for name in Structure:\n",
    "#   globals()['string%s' % x]\n",
    "datas=[data[data.Structure_Name==structure]for structure in data.Structure_Name.unique()]\n",
    "#print(datas[1])\n",
    "datas[1].info()\n",
    "#data['BODY(Unsp.Tiss.)'].info()\n",
    "#print(data_66D1.head(10))\n",
    "#Brain_data=data[data.Structure_Name==\"Brain\"]\n",
    "#data_66D1.describe()\n",
    "#department=artwork.groupby('Department').Department.count()\n",
    "#plt.figure()\n",
    "#sns.lineplot(x=data_66D1.Dose, y=data_66D1.Volume)\n",
    "#sns.lineplot(x=Brain_data.Dose,y=Brain_data.Volume)\n",
    "plt.figure()\n",
    "for i in range(4):\n",
    "    sns.lineplot(x=datas[i].Dose, y=datas[i].Volume)\n",
    "\n",
    "plt.figure()\n",
    "sns.lineplot(x=datas[1].Dose,y=datas[1].Volume)"
   ]
  },
  {
   "cell_type": "code",
   "execution_count": 1,
   "metadata": {},
   "outputs": [
    {
     "ename": "NameError",
     "evalue": "name 'data' is not defined",
     "output_type": "error",
     "traceback": [
      "\u001b[1;31m---------------------------------------------------------------------------\u001b[0m",
      "\u001b[1;31mNameError\u001b[0m                                 Traceback (most recent call last)",
      "\u001b[1;32m<ipython-input-1-02c0d8acead7>\u001b[0m in \u001b[0;36m<module>\u001b[1;34m\u001b[0m\n\u001b[1;32m----> 1\u001b[1;33m \u001b[0mdata\u001b[0m\u001b[1;33m.\u001b[0m\u001b[0mStrucure_Name\u001b[0m\u001b[1;33m.\u001b[0m\u001b[0munique\u001b[0m\u001b[1;33m(\u001b[0m\u001b[1;33m)\u001b[0m\u001b[1;33m.\u001b[0m\u001b[0mtolist\u001b[0m\u001b[1;33m(\u001b[0m\u001b[1;33m)\u001b[0m\u001b[1;33m\u001b[0m\u001b[1;33m\u001b[0m\u001b[0m\n\u001b[0m",
      "\u001b[1;31mNameError\u001b[0m: name 'data' is not defined"
     ]
    }
   ],
   "source": [
    "#data.Strucure_Name.unique().tolist()"
   ]
  },
  {
   "cell_type": "code",
   "execution_count": null,
   "metadata": {},
   "outputs": [],
   "source": []
  },
  {
   "cell_type": "code",
   "execution_count": 73,
   "metadata": {},
   "outputs": [
    {
     "data": {
      "text/html": [
       "<div>\n",
       "<style scoped>\n",
       "    .dataframe tbody tr th:only-of-type {\n",
       "        vertical-align: middle;\n",
       "    }\n",
       "\n",
       "    .dataframe tbody tr th {\n",
       "        vertical-align: top;\n",
       "    }\n",
       "\n",
       "    .dataframe thead th {\n",
       "        text-align: right;\n",
       "    }\n",
       "</style>\n",
       "<table border=\"1\" class=\"dataframe\">\n",
       "  <thead>\n",
       "    <tr style=\"text-align: right;\">\n",
       "      <th></th>\n",
       "      <th>Dose</th>\n",
       "      <th>Volume</th>\n",
       "    </tr>\n",
       "  </thead>\n",
       "  <tbody>\n",
       "    <tr>\n",
       "      <th>count</th>\n",
       "      <td>79162.000000</td>\n",
       "      <td>79162.000000</td>\n",
       "    </tr>\n",
       "    <tr>\n",
       "      <th>mean</th>\n",
       "      <td>4669.705920</td>\n",
       "      <td>53.371142</td>\n",
       "    </tr>\n",
       "    <tr>\n",
       "      <th>std</th>\n",
       "      <td>1895.711502</td>\n",
       "      <td>36.642208</td>\n",
       "    </tr>\n",
       "    <tr>\n",
       "      <th>min</th>\n",
       "      <td>0.000000</td>\n",
       "      <td>0.000000</td>\n",
       "    </tr>\n",
       "    <tr>\n",
       "      <th>25%</th>\n",
       "      <td>3432.500000</td>\n",
       "      <td>15.046000</td>\n",
       "    </tr>\n",
       "    <tr>\n",
       "      <th>50%</th>\n",
       "      <td>5125.000000</td>\n",
       "      <td>57.755000</td>\n",
       "    </tr>\n",
       "    <tr>\n",
       "      <th>75%</th>\n",
       "      <td>6287.500000</td>\n",
       "      <td>91.502750</td>\n",
       "    </tr>\n",
       "    <tr>\n",
       "      <th>max</th>\n",
       "      <td>7255.000000</td>\n",
       "      <td>100.000000</td>\n",
       "    </tr>\n",
       "  </tbody>\n",
       "</table>\n",
       "</div>"
      ],
      "text/plain": [
       "               Dose        Volume\n",
       "count  79162.000000  79162.000000\n",
       "mean    4669.705920     53.371142\n",
       "std     1895.711502     36.642208\n",
       "min        0.000000      0.000000\n",
       "25%     3432.500000     15.046000\n",
       "50%     5125.000000     57.755000\n",
       "75%     6287.500000     91.502750\n",
       "max     7255.000000    100.000000"
      ]
     },
     "execution_count": 73,
     "metadata": {},
     "output_type": "execute_result"
    }
   ],
   "source": [
    "#data.describe()"
   ]
  },
  {
   "cell_type": "code",
   "execution_count": 48,
   "metadata": {},
   "outputs": [
    {
     "name": "stderr",
     "output_type": "stream",
     "text": [
      "<ipython-input-48-4febdb686320>:1: ParserWarning: Falling back to the 'python' engine because the 'c' engine does not support regex separators (separators > 1 char and different from '\\s+' are interpreted as regex); you can avoid this warning by specifying engine='python'.\n",
      "  data1 = pd.read_csv('RT210107_3d_DVH_1_edited.txt',encoding='utf-8' ,sep=\"\\s\\s+\")\n"
     ]
    }
   ],
   "source": [
    "data1 = pd.read_csv('RT210107_3d_DVH_1_edited.txt',encoding='utf-8' ,sep=\"\\s\\s+\")"
   ]
  },
  {
   "cell_type": "code",
   "execution_count": 49,
   "metadata": {
    "scrolled": true
   },
   "outputs": [
    {
     "name": "stdout",
     "output_type": "stream",
     "text": [
      "<class 'pandas.core.frame.DataFrame'>\n",
      "RangeIndex: 102270 entries, 0 to 102269\n",
      "Data columns (total 3 columns):\n",
      " #   Column          Non-Null Count   Dtype  \n",
      "---  ------          --------------   -----  \n",
      " 0   Structure Name  102270 non-null  object \n",
      " 1   Dose            102270 non-null  float64\n",
      " 2   Volume          102270 non-null  float64\n",
      "dtypes: float64(2), object(1)\n",
      "memory usage: 2.3+ MB\n"
     ]
    }
   ],
   "source": [
    "data1.info()\n"
   ]
  },
  {
   "cell_type": "code",
   "execution_count": 50,
   "metadata": {},
   "outputs": [],
   "source": [
    "data1.head()\n",
    "data1.columns = [c.replace(' ', '_') for c in data1.columns]"
   ]
  },
  {
   "cell_type": "code",
   "execution_count": 51,
   "metadata": {},
   "outputs": [
    {
     "name": "stdout",
     "output_type": "stream",
     "text": [
      "        Structure_Name    Dose   Volume\n",
      "948   BODY(Unsp.Tiss.)     0.0  100.000\n",
      "949   BODY(Unsp.Tiss.)     0.5  100.000\n",
      "950   BODY(Unsp.Tiss.)     1.5   99.427\n",
      "951   BODY(Unsp.Tiss.)     2.5   99.427\n",
      "952   BODY(Unsp.Tiss.)     3.5   99.419\n",
      "...                ...     ...      ...\n",
      "6857  BODY(Unsp.Tiss.)  6353.5    0.000\n",
      "6858  BODY(Unsp.Tiss.)  6393.5    0.000\n",
      "6859  BODY(Unsp.Tiss.)  6394.5    0.000\n",
      "6860  BODY(Unsp.Tiss.)  7254.5    0.000\n",
      "6861  BODY(Unsp.Tiss.)  7255.0    0.000\n",
      "\n",
      "[5914 rows x 3 columns]\n",
      "<class 'pandas.core.frame.DataFrame'>\n",
      "Int64Index: 6964 entries, 1506 to 8469\n",
      "Data columns (total 3 columns):\n",
      " #   Column          Non-Null Count  Dtype  \n",
      "---  ------          --------------  -----  \n",
      " 0   Structure_Name  6964 non-null   object \n",
      " 1   Dose            6964 non-null   float64\n",
      " 2   Volume          6964 non-null   float64\n",
      "dtypes: float64(2), object(1)\n",
      "memory usage: 217.6+ KB\n"
     ]
    }
   ],
   "source": [
    "datas1=[data1[data1.Structure_Name==structure]for structure in data1.Structure_Name.unique()]\n",
    "print(datas[1])\n",
    "datas1[1].info()\n"
   ]
  },
  {
   "cell_type": "code",
   "execution_count": 72,
   "metadata": {},
   "outputs": [
    {
     "name": "stdout",
     "output_type": "stream",
     "text": [
      "<class 'pandas.core.frame.DataFrame'>\n",
      "Int64Index: 6964 entries, 1506 to 8469\n",
      "Data columns (total 3 columns):\n",
      " #   Column          Non-Null Count  Dtype  \n",
      "---  ------          --------------  -----  \n",
      " 0   Structure_Name  6964 non-null   object \n",
      " 1   Dose            6964 non-null   float64\n",
      " 2   Volume          6964 non-null   float64\n",
      "dtypes: float64(2), object(1)\n",
      "memory usage: 217.6+ KB\n",
      "[0.0, 3.5, 4.5, 5.5, 6.5, 7.5, 8.5, 9.5, 10.5, 11.5, 12.5, 13.5, 14.5, 15.5, 16.5, 17.5, 18.5, 19.5, 20.5, 21.5, 22.5, 23.5, 24.5, 25.5, 26.5, 27.5, 28.5, 29.5, 30.5, 31.5, 32.5, 33.5, 34.5, 35.5, 36.5, 37.5, 38.5, 39.5, 40.5, 41.5, 42.5, 43.5, 44.5, 45.5, 46.5, 47.5, 48.5, 49.5, 50.5, 51.5, 52.5, 53.5, 54.5, 55.5, 56.5, 57.5, 58.5, 59.5, 60.5, 61.5, 62.5, 63.5, 64.5, 65.5, 66.5, 67.5, 68.5, 69.5, 70.5, 71.5, 72.5, 73.5, 74.5, 75.5, 76.5, 77.5, 78.5, 79.5, 80.5, 81.5, 82.5, 83.5, 84.5, 85.5, 86.5, 87.5, 88.5, 89.5, 90.5, 91.5, 92.5, 93.5, 94.5, 95.5, 96.5, 97.5, 98.5, 99.5, 100.5, 101.5, 102.5, 103.5, 104.5, 105.5, 106.5, 107.5, 108.5, 109.5, 110.5, 111.5, 112.5, 113.5, 114.5, 115.5, 116.5, 117.5, 118.5, 119.5, 120.5, 121.5, 122.5, 123.5, 124.5, 125.5, 126.5, 127.5, 128.5, 129.5, 130.5, 131.5, 132.5, 133.5, 134.5, 135.5, 136.5, 137.5, 138.5, 139.5, 140.5, 141.5, 142.5, 143.5, 144.5, 145.5, 146.5, 147.5, 148.5, 149.5, 150.5, 151.5, 152.5, 153.5, 154.5, 155.5, 156.5, 157.5, 158.5, 159.5, 160.5, 161.5, 162.5, 163.5, 164.5, 165.5, 166.5, 167.5, 168.5, 169.5, 170.5, 171.5, 172.5, 173.5, 174.5, 175.5, 176.5, 177.5, 178.5, 179.5, 180.5, 181.5, 182.5, 183.5, 184.5, 185.5, 186.5, 187.5, 188.5, 189.5, 190.5, 191.5, 192.5, 193.5, 194.5, 195.5, 196.5, 197.5, 198.5, 199.5, 200.5, 201.5, 202.5, 203.5, 204.5, 205.5, 206.5, 207.5, 208.5, 209.5, 210.5, 211.5, 212.5, 213.5, 214.5, 215.5, 216.5, 217.5, 218.5, 219.5, 220.5, 221.5, 222.5, 223.5, 224.5, 226.5, 227.5, 228.5, 229.5, 230.5, 231.5, 232.5, 233.5, 234.5, 235.5, 236.5, 237.5, 238.5, 239.5, 240.5, 241.5, 242.5, 243.5, 244.5, 245.5, 246.5, 247.5, 248.5, 249.5, 250.5, 251.5, 252.5, 253.5, 254.5, 255.5, 256.5, 257.5, 258.5, 259.5, 260.5, 261.5, 262.5, 263.5, 264.5, 265.5, 266.5, 267.5, 268.5, 269.5, 270.5, 271.5, 272.5, 273.5, 274.5, 275.5, 276.5, 277.5, 278.5, 279.5, 280.5, 281.5, 282.5, 283.5, 284.5, 285.5, 286.5, 287.5, 289.5, 290.5, 291.5, 292.5, 293.5, 294.5, 295.5, 296.5, 297.5, 298.5, 299.5, 300.5, 301.5, 302.5, 303.5, 304.5, 305.5, 306.5, 307.5, 308.5, 309.5, 310.5, 311.5, 312.5, 313.5, 314.5, 315.5, 316.5, 317.5, 318.5, 319.5, 320.5, 321.5, 322.5, 323.5, 324.5, 325.5, 326.5, 327.5, 328.5, 329.5, 330.5, 331.5, 332.5, 333.5, 334.5, 335.5, 336.5, 337.5, 338.5, 339.5, 340.5, 341.5, 342.5, 343.5, 344.5, 345.5, 346.5, 347.5, 348.5, 349.5, 350.5, 351.5, 352.5, 353.5, 354.5, 355.5, 356.5, 357.5, 358.5, 359.5, 360.5, 361.5, 362.5, 363.5, 364.5, 365.5, 366.5, 367.5, 368.5, 369.5, 370.5, 371.5, 372.5, 373.5, 374.5, 375.5, 376.5, 377.5, 378.5, 379.5, 380.5, 381.5, 382.5, 383.5, 384.5, 385.5, 386.5, 387.5, 388.5, 389.5, 390.5, 391.5, 392.5, 393.5, 394.5, 395.5, 396.5, 397.5, 398.5, 399.5, 400.5, 401.5, 402.5, 403.5, 404.5, 405.5, 406.5, 407.5, 408.5, 409.5, 410.5, 411.5, 412.5, 413.5, 414.5, 415.5, 416.5, 417.5, 418.5, 419.5, 420.5, 421.5, 423.5, 424.5, 425.5, 426.5, 427.5, 428.5, 429.5, 430.5, 431.5, 432.5, 433.5, 434.5, 435.5, 436.5, 437.5, 438.5, 439.5, 440.5, 441.5, 442.5, 443.5, 444.5, 445.5, 446.5, 447.5, 448.5, 449.5, 450.5, 451.5, 452.5, 453.5, 454.5, 455.5, 456.5, 457.5, 458.5, 459.5, 460.5, 461.5, 462.5, 463.5, 464.5, 465.5, 466.5, 467.5, 468.5, 469.5, 470.5, 471.5, 472.5, 473.5, 474.5, 475.5, 476.5, 477.5, 478.5, 479.5, 480.5, 481.5, 482.5, 483.5, 484.5, 485.5, 486.5, 487.5, 488.5, 489.5, 490.5, 491.5, 492.5, 493.5, 494.5, 495.5, 496.5, 497.5, 498.5, 500.5, 501.5, 502.5, 503.5, 504.5, 505.5, 506.5, 507.5, 508.5, 509.5, 510.5, 511.5, 512.5, 513.5, 514.5, 515.5, 516.5, 517.5, 518.5, 519.5, 520.5, 521.5, 522.5, 523.5, 524.5, 525.5, 526.5, 527.5, 528.5, 529.5, 530.5, 531.5, 532.5, 533.5, 534.5, 535.5, 536.5, 537.5, 538.5, 539.5, 540.5, 541.5, 542.5, 543.5, 544.5, 545.5, 546.5, 547.5, 548.5, 549.5, 550.5, 551.5, 552.5, 553.5, 554.5, 555.5, 556.5, 557.5, 558.5, 559.5, 560.5, 561.5, 562.5, 563.5, 564.5, 565.5, 566.5, 567.5, 568.5, 569.5, 570.5, 571.5, 572.5, 573.5, 574.5, 575.5, 576.5, 577.5, 578.5, 579.5, 580.5, 581.5, 582.5, 583.5, 584.5, 585.5, 586.5, 587.5, 588.5, 589.5, 590.5, 591.5, 592.5, 593.5, 594.5, 595.5, 596.5, 597.5, 598.5, 599.5, 600.5, 601.5, 602.5, 603.5, 604.5, 605.5, 606.5, 607.5, 608.5, 609.5, 610.5, 611.5, 612.5, 613.5, 614.5, 615.5, 616.5, 617.5, 618.5, 619.5, 620.5, 621.5, 622.5, 623.5, 624.5, 625.5, 626.5, 627.5, 628.5, 629.5, 630.5, 631.5, 632.5, 633.5, 634.5, 635.5, 636.5, 637.5, 638.5, 639.5, 640.5, 641.5, 642.5, 643.5, 644.5, 645.5, 646.5, 648.5, 649.5, 650.5, 651.5, 652.5, 653.5, 654.5, 655.5, 656.5, 657.5, 658.5, 659.5, 660.5, 661.5, 662.5, 663.5, 664.5, 665.5, 666.5, 668.5, 669.5, 670.5, 671.5, 672.5, 673.5, 674.5, 675.5, 676.5, 677.5, 678.5, 679.5, 680.5, 681.5, 682.5, 683.5, 684.5, 685.5, 686.5, 687.5, 689.5, 690.5, 691.5, 692.5, 693.5, 694.5, 695.5, 696.5, 697.5, 698.5, 699.5, 700.5, 701.5, 702.5, 703.5, 704.5, 705.5, 706.5, 707.5, 708.5, 709.5, 710.5, 711.5, 712.5, 713.5, 714.5, 715.5, 716.5, 717.5, 718.5, 719.5, 720.5, 721.5, 722.5, 723.5, 724.5, 725.5, 726.5, 727.5, 728.5, 729.5, 730.5, 731.5, 732.5, 733.5, 734.5, 735.5, 736.5, 737.5, 738.5, 739.5, 740.5, 741.5, 742.5, 743.5, 744.5, 745.5, 746.5, 747.5, 748.5, 749.5, 751.5, 752.5, 753.5, 754.5, 755.5, 756.5, 757.5, 758.5, 759.5, 760.5, 761.5, 762.5, 763.5, 764.5, 765.5, 766.5, 767.5, 768.5, 769.5, 770.5, 771.5, 772.5, 773.5, 774.5, 775.5, 776.5, 777.5, 778.5, 779.5, 780.5, 781.5, 782.5, 783.5, 784.5, 785.5, 786.5, 787.5, 788.5, 789.5, 790.5, 791.5, 792.5, 793.5, 794.5, 795.5, 796.5, 797.5, 798.5, 799.5, 800.5, 801.5, 802.5, 803.5, 804.5, 805.5, 806.5, 807.5, 808.5, 809.5, 810.5, 811.5, 812.5, 813.5, 814.5, 815.5, 816.5, 817.5, 818.5, 819.5, 820.5, 821.5, 822.5, 823.5, 824.5, 825.5, 826.5, 827.5, 828.5, 829.5, 830.5, 831.5, 832.5, 833.5, 834.5, 835.5, 836.5, 837.5, 838.5, 839.5, 840.5, 841.5, 842.5, 843.5, 844.5, 845.5, 846.5, 847.5, 848.5, 849.5, 850.5, 851.5, 852.5, 853.5, 854.5, 855.5, 856.5, 857.5, 858.5, 859.5, 860.5, 861.5, 862.5, 863.5, 865.5, 866.5, 867.5, 868.5, 869.5, 870.5, 871.5, 872.5, 873.5, 874.5, 875.5, 876.5, 877.5, 878.5, 879.5, 880.5, 881.5, 882.5, 883.5, 884.5, 885.5, 886.5, 887.5, 888.5, 889.5, 890.5, 891.5, 892.5, 893.5, 894.5, 896.5, 897.5, 898.5, 899.5, 900.5, 901.5, 902.5, 903.5, 905.5, 906.5, 907.5, 908.5, 909.5, 910.5, 911.5, 912.5, 913.5, 914.5, 915.5, 916.5, 917.5, 918.5, 919.5, 920.5, 921.5, 922.5, 923.5, 924.5, 925.5, 926.5, 927.5, 928.5, 929.5, 930.5, 931.5, 933.5, 934.5, 935.5, 936.5, 937.5, 938.5, 939.5, 940.5, 941.5, 942.5, 943.5, 944.5, 945.5, 946.5, 947.5, 948.5, 949.5, 950.5, 951.5, 952.5, 953.5, 954.5, 955.5, 956.5, 957.5, 958.5, 959.5, 960.5, 961.5, 962.5, 963.5, 964.5, 965.5, 966.5, 967.5, 968.5, 969.5, 970.5, 971.5, 972.5, 973.5, 974.5, 975.5, 976.5, 977.5, 978.5, 979.5, 980.5, 981.5, 982.5, 984.5, 985.5, 986.5, 987.5, 988.5, 989.5, 990.5, 991.5, 992.5, 993.5, 994.5, 995.5, 996.5, 997.5, 998.5, 999.5, 1000.5, 1001.5, 1002.5, 1004.5, 1005.5, 1006.5, 1008.5, 1009.5, 1010.5, 1011.5, 1012.5, 1013.5, 1014.5, 1015.5, 1016.5, 1017.5, 1018.5, 1019.5, 1020.5, 1021.5, 1022.5, 1023.5, 1024.5, 1025.5, 1026.5, 1027.5, 1028.5, 1029.5, 1030.5, 1031.5, 1032.5, 1033.5, 1034.5, 1035.5, 1036.5, 1037.5, 1038.5, 1039.5, 1040.5, 1041.5, 1042.5, 1043.5, 1044.5, 1045.5, 1046.5, 1047.5, 1048.5, 1049.5, 1050.5, 1051.5, 1052.5, 1053.5, 1054.5, 1055.5, 1056.5, 1057.5, 1058.5, 1059.5, 1060.5, 1061.5, 1062.5, 1063.5, 1064.5, 1065.5, 1066.5, 1067.5, 1068.5, 1069.5, 1070.5, 1071.5, 1072.5, 1073.5, 1074.5, 1075.5, 1076.5, 1077.5, 1078.5, 1079.5, 1080.5, 1081.5, 1082.5, 1084.5, 1085.5, 1086.5, 1087.5, 1088.5, 1089.5, 1090.5, 1092.5, 1093.5, 1094.5, 1095.5, 1096.5, 1097.5, 1098.5, 1099.5, 1100.5, 1101.5, 1102.5, 1103.5, 1104.5, 1105.5, 1106.5, 1107.5, 1108.5, 1109.5, 1110.5, 1111.5, 1112.5, 1113.5, 1114.5, 1115.5, 1116.5, 1117.5, 1118.5, 1119.5, 1120.5, 1121.5, 1122.5, 1123.5, 1124.5, 1125.5, 1126.5, 1127.5, 1128.5, 1129.5, 1130.5, 1131.5, 1132.5, 1134.5, 1135.5, 1136.5, 1137.5, 1138.5, 1139.5, 1140.5, 1141.5, 1142.5, 1143.5, 1144.5, 1145.5, 1147.5, 1148.5, 1149.5, 1150.5, 1151.5, 1152.5, 1154.5, 1155.5, 1156.5, 1157.5, 1158.5, 1159.5, 1160.5, 1161.5, 1162.5, 1163.5, 1164.5, 1165.5, 1166.5, 1167.5, 1168.5, 1169.5, 1170.5, 1171.5, 1172.5, 1173.5, 1174.5, 1175.5, 1176.5, 1177.5, 1178.5, 1179.5, 1180.5, 1181.5, 1182.5, 1183.5, 1184.5, 1185.5, 1186.5, 1187.5, 1188.5, 1189.5, 1190.5, 1191.5, 1192.5, 1193.5, 1194.5, 1195.5, 1196.5, 1197.5, 1198.5, 1199.5, 1200.5, 1201.5, 1202.5, 1203.5, 1204.5, 1205.5, 1206.5, 1207.5, 1208.5, 1209.5, 1210.5, 1211.5, 1212.5, 1213.5, 1214.5, 1215.5, 1216.5, 1217.5, 1218.5, 1219.5, 1220.5, 1221.5, 1222.5, 1223.5, 1224.5, 1225.5, 1226.5, 1227.5, 1228.5, 1229.5, 1230.5, 1231.5, 1232.5, 1233.5, 1234.5, 1235.5, 1236.5, 1237.5, 1238.5, 1239.5, 1240.5, 1241.5, 1242.5, 1243.5, 1244.5, 1245.5, 1246.5, 1247.5, 1248.5, 1249.5, 1250.5, 1251.5, 1252.5, 1253.5, 1254.5, 1256.5, 1257.5, 1258.5, 1259.5, 1260.5, 1261.5, 1262.5, 1263.5, 1264.5, 1265.5, 1266.5, 1267.5, 1268.5, 1269.5, 1270.5, 1271.5, 1272.5, 1273.5, 1274.5, 1275.5, 1276.5, 1277.5, 1278.5, 1279.5, 1280.5, 1281.5, 1283.5, 1284.5, 1285.5, 1286.5, 1287.5, 1288.5, 1289.5, 1290.5, 1291.5, 1292.5, 1293.5, 1294.5, 1295.5, 1296.5, 1297.5, 1298.5, 1299.5, 1300.5, 1301.5, 1302.5, 1303.5, 1304.5, 1305.5, 1306.5, 1307.5, 1308.5, 1309.5, 1310.5, 1311.5, 1312.5, 1313.5, 1314.5, 1315.5, 1316.5, 1317.5, 1318.5, 1319.5, 1320.5, 1321.5, 1322.5, 1323.5, 1324.5, 1325.5, 1326.5, 1327.5, 1328.5, 1329.5, 1330.5, 1331.5, 1332.5, 1333.5, 1334.5, 1335.5, 1336.5, 1337.5, 1338.5, 1339.5, 1340.5, 1341.5, 1342.5, 1343.5, 1344.5, 1345.5, 1346.5, 1347.5, 1348.5, 1349.5, 1350.5, 1351.5, 1352.5, 1353.5, 1354.5, 1355.5, 1356.5, 1357.5, 1358.5, 1359.5, 1360.5, 1361.5, 1362.5, 1363.5, 1364.5, 1365.5, 1366.5, 1367.5, 1368.5, 1369.5, 1370.5, 1371.5, 1372.5, 1373.5, 1374.5, 1375.5, 1376.5, 1377.5, 1378.5, 1379.5, 1380.5, 1381.5, 1382.5, 1383.5, 1384.5, 1385.5, 1386.5, 1387.5, 1388.5, 1389.5, 1390.5, 1391.5, 1392.5, 1393.5, 1394.5, 1395.5, 1396.5, 1397.5, 1398.5, 1399.5, 1400.5, 1401.5, 1402.5, 1403.5, 1404.5, 1405.5, 1406.5, 1407.5, 1408.5, 1409.5, 1410.5, 1411.5, 1413.5, 1414.5, 1415.5, 1416.5, 1417.5, 1418.5, 1419.5, 1420.5, 1421.5, 1422.5, 1423.5, 1424.5, 1425.5, 1426.5, 1427.5, 1428.5, 1429.5, 1430.5, 1431.5, 1432.5, 1433.5, 1434.5, 1435.5, 1436.5, 1437.5, 1438.5, 1439.5, 1440.5, 1441.5, 1442.5, 1443.5, 1444.5, 1445.5, 1446.5, 1447.5, 1448.5, 1449.5, 1450.5, 1451.5, 1452.5, 1453.5, 1454.5, 1455.5, 1456.5, 1457.5, 1458.5, 1459.5, 1460.5, 1461.5, 1462.5, 1463.5, 1464.5, 1465.5, 1466.5, 1467.5, 1468.5, 1469.5, 1470.5, 1471.5, 1472.5, 1473.5, 1474.5, 1475.5, 1476.5, 1477.5, 1478.5, 1479.5, 1480.5, 1481.5, 1482.5, 1483.5, 1484.5, 1485.5, 1486.5, 1487.5, 1488.5, 1489.5, 1490.5, 1491.5, 1492.5, 1493.5, 1494.5, 1495.5, 1496.5, 1497.5, 1498.5, 1499.5, 1500.5, 1501.5, 1502.5, 1503.5, 1504.5, 1506.5, 1507.5, 1508.5, 1509.5, 1510.5, 1511.5, 1512.5, 1513.5, 1514.5, 1515.5, 1516.5, 1517.5, 1518.5, 1519.5, 1520.5, 1521.5, 1522.5, 1523.5, 1524.5, 1525.5, 1526.5, 1527.5, 1528.5, 1529.5, 1530.5, 1531.5, 1532.5, 1533.5, 1534.5, 1535.5, 1536.5, 1537.5, 1538.5, 1539.5, 1540.5, 1541.5, 1543.5, 1544.5, 1545.5, 1546.5, 1547.5, 1548.5, 1549.5, 1550.5, 1551.5, 1552.5, 1553.5, 1554.5, 1555.5, 1556.5, 1557.5, 1558.5, 1559.5, 1560.5, 1562.5, 1563.5, 1564.5, 1565.5, 1566.5, 1567.5, 1568.5, 1569.5, 1570.5, 1571.5, 1572.5, 1573.5, 1574.5, 1575.5, 1576.5, 1577.5, 1578.5, 1579.5, 1580.5, 1581.5, 1582.5, 1583.5, 1584.5, 1585.5, 1586.5, 1587.5, 1588.5, 1589.5, 1590.5, 1591.5, 1592.5, 1593.5, 1594.5, 1595.5, 1596.5, 1597.5, 1598.5, 1599.5, 1600.5, 1601.5, 1602.5, 1603.5, 1604.5, 1605.5, 1606.5, 1607.5, 1608.5, 1610.5, 1611.5, 1612.5, 1613.5, 1614.5, 1615.5, 1616.5, 1617.5, 1618.5, 1619.5, 1620.5, 1621.5, 1623.5, 1624.5, 1625.5, 1626.5, 1627.5, 1628.5, 1629.5, 1630.5, 1631.5, 1632.5, 1633.5, 1634.5, 1635.5, 1636.5, 1637.5, 1638.5, 1639.5, 1640.5, 1641.5, 1642.5, 1643.5, 1644.5, 1645.5, 1646.5, 1647.5, 1648.5, 1649.5, 1650.5, 1651.5, 1652.5, 1653.5, 1654.5, 1655.5, 1656.5, 1657.5, 1658.5, 1659.5, 1660.5, 1661.5, 1662.5, 1663.5, 1664.5, 1665.5, 1666.5, 1667.5, 1668.5, 1669.5, 1670.5, 1671.5, 1672.5, 1673.5, 1674.5, 1675.5, 1676.5, 1677.5, 1678.5, 1679.5, 1680.5, 1681.5, 1682.5, 1683.5, 1684.5, 1685.5, 1686.5, 1687.5, 1688.5, 1689.5, 1690.5, 1693.5, 1694.5, 1695.5, 1696.5, 1697.5, 1698.5, 1699.5, 1700.5, 1701.5, 1702.5, 1703.5, 1704.5, 1705.5, 1706.5, 1707.5, 1708.5, 1709.5, 1710.5, 1711.5, 1712.5, 1713.5, 1714.5, 1715.5, 1716.5, 1717.5, 1718.5, 1719.5, 1720.5, 1722.5, 1723.5, 1724.5, 1725.5, 1726.5, 1727.5, 1728.5, 1729.5, 1730.5, 1731.5, 1732.5, 1733.5, 1734.5, 1735.5, 1736.5, 1737.5, 1738.5, 1739.5, 1740.5, 1742.5, 1743.5, 1744.5, 1745.5, 1746.5, 1747.5, 1748.5, 1749.5, 1750.5, 1751.5, 1752.5, 1753.5, 1754.5, 1755.5, 1756.5, 1757.5, 1758.5, 1759.5, 1760.5, 1761.5, 1762.5, 1763.5, 1764.5, 1765.5, 1767.5, 1768.5, 1769.5, 1770.5, 1771.5, 1772.5, 1773.5, 1774.5, 1775.5, 1776.5, 1777.5, 1778.5, 1779.5, 1780.5, 1781.5, 1782.5, 1783.5, 1784.5, 1785.5, 1786.5, 1787.5, 1788.5, 1789.5, 1790.5, 1791.5, 1792.5, 1793.5, 1794.5, 1795.5, 1796.5, 1797.5, 1798.5, 1799.5, 1800.5, 1801.5, 1802.5, 1803.5, 1804.5, 1805.5, 1806.5, 1807.5, 1808.5, 1809.5, 1810.5, 1811.5, 1812.5, 1813.5, 1814.5, 1815.5, 1816.5, 1817.5, 1818.5, 1819.5, 1820.5, 1821.5, 1822.5, 1823.5, 1824.5, 1825.5, 1826.5, 1827.5, 1828.5, 1829.5, 1830.5, 1831.5, 1832.5, 1833.5, 1834.5, 1835.5, 1836.5, 1837.5, 1838.5, 1839.5, 1840.5, 1841.5, 1842.5, 1843.5, 1844.5, 1845.5, 1846.5, 1847.5, 1848.5, 1849.5, 1850.5, 1851.5, 1852.5, 1853.5, 1854.5, 1855.5, 1856.5, 1857.5, 1858.5, 1859.5, 1860.5, 1861.5, 1862.5, 1863.5, 1864.5, 1865.5, 1866.5, 1867.5, 1868.5, 1869.5, 1870.5, 1871.5, 1872.5, 1873.5, 1874.5, 1875.5, 1876.5, 1877.5, 1878.5, 1879.5, 1880.5, 1881.5, 1882.5, 1883.5, 1884.5, 1885.5, 1886.5, 1887.5, 1888.5, 1889.5, 1890.5, 1891.5, 1892.5, 1893.5, 1894.5, 1895.5, 1896.5, 1897.5, 1898.5, 1899.5, 1900.5, 1901.5, 1903.5, 1904.5, 1905.5, 1906.5, 1907.5, 1908.5, 1909.5, 1910.5, 1911.5, 1912.5, 1914.5, 1915.5, 1916.5, 1917.5, 1918.5, 1920.5, 1921.5, 1922.5, 1923.5, 1924.5, 1925.5, 1926.5, 1927.5, 1929.5, 1930.5, 1931.5, 1932.5, 1933.5, 1934.5, 1935.5, 1936.5, 1937.5, 1939.5, 1940.5, 1941.5, 1942.5, 1943.5, 1944.5, 1946.5, 1947.5, 1948.5, 1949.5, 1950.5, 1951.5, 1952.5, 1953.5, 1954.5, 1955.5, 1956.5, 1957.5, 1958.5, 1959.5, 1960.5, 1961.5, 1962.5, 1963.5, 1964.5, 1966.5, 1967.5, 1968.5, 1969.5, 1970.5, 1971.5, 1972.5, 1973.5, 1974.5, 1975.5, 1976.5, 1977.5, 1978.5, 1979.5, 1980.5, 1981.5, 1982.5, 1983.5, 1984.5, 1985.5, 1987.5, 1988.5, 1989.5, 1990.5, 1991.5, 1992.5, 1993.5, 1994.5, 1995.5, 1996.5, 1997.5, 1998.5, 1999.5, 2000.5, 2001.5, 2003.5, 2004.5, 2005.5, 2006.5, 2007.5, 2008.5, 2009.5, 2011.5, 2012.5, 2013.5, 2015.5, 2016.5, 2018.5, 2019.5, 2020.5, 2021.5, 2022.5, 2023.5, 2024.5, 2025.5, 2026.5, 2027.5, 2028.5, 2029.5, 2030.5, 2031.5, 2033.5, 2034.5, 2035.5, 2036.5, 2037.5, 2038.5, 2039.5, 2040.5, 2041.5, 2042.5, 2043.5, 2044.5, 2045.5, 2046.5, 2047.5, 2048.5, 2049.5, 2050.5, 2051.5, 2052.5, 2053.5, 2054.5, 2055.5, 2056.5, 2057.5, 2058.5, 2059.5, 2060.5, 2061.5, 2062.5, 2063.5, 2064.5, 2065.5, 2066.5, 2067.5, 2068.5, 2069.5, 2070.5, 2071.5, 2072.5, 2073.5, 2074.5, 2075.5, 2076.5, 2077.5, 2078.5, 2079.5, 2080.5, 2081.5, 2082.5, 2083.5, 2084.5, 2085.5, 2086.5, 2087.5, 2088.5, 2089.5, 2090.5, 2091.5, 2092.5, 2093.5, 2094.5, 2095.5, 2096.5, 2098.5, 2099.5, 2100.5, 2101.5, 2102.5, 2103.5, 2104.5, 2105.5, 2106.5, 2107.5, 2108.5, 2109.5, 2110.5, 2111.5, 2112.5, 2113.5, 2114.5, 2115.5, 2116.5, 2117.5, 2118.5, 2119.5, 2120.5, 2121.5, 2122.5, 2123.5, 2125.5, 2126.5, 2127.5, 2128.5, 2129.5, 2130.5, 2131.5, 2132.5, 2133.5, 2134.5, 2135.5, 2136.5, 2137.5, 2138.5, 2139.5, 2140.5, 2141.5, 2142.5, 2143.5, 2144.5, 2145.5, 2146.5, 2147.5, 2148.5, 2149.5, 2150.5, 2151.5, 2152.5, 2153.5, 2154.5, 2155.5, 2156.5, 2157.5, 2158.5, 2159.5, 2160.5, 2161.5, 2162.5, 2163.5, 2164.5, 2165.5, 2166.5, 2167.5, 2168.5, 2169.5, 2170.5, 2171.5, 2172.5, 2174.5, 2175.5, 2176.5, 2177.5, 2178.5, 2179.5, 2180.5, 2181.5, 2182.5, 2183.5, 2184.5, 2185.5, 2186.5, 2187.5, 2188.5, 2189.5, 2190.5, 2191.5, 2192.5, 2193.5, 2194.5, 2195.5, 2196.5, 2197.5, 2198.5, 2199.5, 2200.5, 2201.5, 2202.5, 2203.5, 2204.5, 2205.5, 2207.5, 2208.5, 2209.5, 2210.5, 2211.5, 2212.5, 2213.5, 2214.5, 2215.5, 2216.5, 2217.5, 2218.5, 2219.5, 2220.5, 2221.5, 2222.5, 2223.5, 2224.5, 2225.5, 2226.5, 2227.5, 2228.5, 2229.5, 2230.5, 2231.5, 2232.5, 2234.5, 2235.5, 2236.5, 2237.5, 2238.5, 2239.5, 2240.5, 2241.5, 2242.5, 2243.5, 2244.5, 2245.5, 2246.5, 2247.5, 2248.5, 2249.5, 2250.5, 2251.5, 2252.5, 2253.5, 2254.5, 2255.5, 2256.5, 2257.5, 2258.5, 2259.5, 2260.5, 2261.5, 2262.5, 2263.5, 2264.5, 2265.5, 2266.5, 2267.5, 2268.5, 2269.5, 2270.5, 2271.5, 2272.5, 2273.5, 2274.5, 2275.5, 2276.5, 2277.5, 2278.5, 2279.5, 2280.5, 2281.5, 2282.5, 2283.5, 2284.5, 2285.5, 2286.5, 2287.5, 2288.5, 2289.5, 2290.5, 2291.5, 2292.5, 2293.5, 2294.5, 2295.5, 2296.5, 2297.5, 2298.5, 2299.5, 2300.5, 2301.5, 2302.5, 2303.5, 2304.5, 2305.5, 2306.5, 2307.5, 2308.5, 2309.5, 2310.5, 2311.5, 2312.5, 2313.5, 2314.5, 2315.5, 2316.5, 2317.5, 2318.5, 2319.5, 2320.5, 2321.5, 2322.5, 2323.5, 2325.5, 2326.5, 2327.5, 2328.5, 2329.5, 2330.5, 2331.5, 2332.5, 2333.5, 2334.5, 2335.5, 2336.5, 2337.5, 2338.5, 2339.5, 2340.5, 2341.5, 2342.5, 2343.5, 2344.5, 2346.5, 2347.5, 2348.5, 2349.5, 2351.5, 2352.5, 2353.5, 2354.5, 2355.5, 2356.5, 2357.5, 2358.5, 2359.5, 2360.5, 2361.5, 2362.5, 2363.5, 2364.5, 2365.5, 2366.5, 2367.5, 2368.5, 2369.5, 2370.5, 2371.5, 2372.5, 2373.5, 2374.5, 2375.5, 2376.5, 2377.5, 2378.5, 2379.5, 2380.5, 2381.5, 2382.5, 2383.5, 2384.5, 2385.5, 2386.5, 2387.5, 2388.5, 2389.5, 2390.5, 2391.5, 2392.5, 2393.5, 2394.5, 2395.5, 2396.5, 2397.5, 2398.5, 2399.5, 2400.5, 2401.5, 2402.5, 2403.5, 2404.5, 2405.5, 2406.5, 2407.5, 2408.5, 2409.5, 2410.5, 2411.5, 2412.5, 2413.5, 2414.5, 2415.5, 2416.5, 2417.5, 2418.5, 2419.5, 2420.5, 2421.5, 2422.5, 2423.5, 2425.5, 2426.5, 2427.5, 2429.5, 2430.5, 2431.5, 2432.5, 2433.5, 2434.5, 2435.5, 2436.5, 2437.5, 2438.5, 2439.5, 2440.5, 2441.5, 2442.5, 2443.5, 2444.5, 2445.5, 2446.5, 2448.5, 2449.5, 2450.5, 2451.5, 2452.5, 2453.5, 2454.5, 2455.5, 2456.5, 2457.5, 2458.5, 2459.5, 2460.5, 2461.5, 2462.5, 2463.5, 2464.5, 2465.5, 2466.5, 2467.5, 2468.5, 2469.5, 2470.5, 2471.5, 2472.5, 2473.5, 2474.5, 2475.5, 2476.5, 2477.5, 2478.5, 2479.5, 2480.5, 2481.5, 2482.5, 2484.5, 2485.5, 2486.5, 2487.5, 2488.5, 2489.5, 2490.5, 2491.5, 2493.5, 2494.5, 2495.5, 2496.5, 2497.5, 2498.5, 2499.5, 2500.5, 2501.5, 2503.5, 2504.5, 2505.5, 2506.5, 2507.5, 2508.5, 2509.5, 2510.5, 2511.5, 2512.5, 2513.5, 2514.5, 2515.5, 2516.5, 2517.5, 2518.5, 2519.5, 2520.5, 2521.5, 2522.5, 2523.5, 2524.5, 2525.5, 2526.5, 2527.5, 2528.5, 2529.5, 2530.5, 2532.5, 2533.5, 2534.5, 2535.5, 2536.5, 2537.5, 2538.5, 2539.5, 2540.5, 2541.5, 2542.5, 2543.5, 2544.5, 2545.5, 2546.5, 2547.5, 2548.5, 2549.5, 2550.5, 2551.5, 2552.5, 2553.5, 2554.5, 2555.5, 2556.5, 2557.5, 2558.5, 2559.5, 2560.5, 2561.5, 2562.5, 2563.5, 2564.5, 2565.5, 2566.5, 2567.5, 2568.5, 2569.5, 2570.5, 2571.5, 2572.5, 2573.5, 2574.5, 2575.5, 2576.5, 2577.5, 2578.5, 2580.5, 2581.5, 2582.5, 2583.5, 2584.5, 2585.5, 2586.5, 2587.5, 2588.5, 2589.5, 2590.5, 2592.5, 2593.5, 2594.5, 2595.5, 2596.5, 2598.5, 2599.5, 2600.5, 2601.5, 2602.5, 2603.5, 2604.5, 2605.5, 2606.5, 2607.5, 2608.5, 2609.5, 2610.5, 2611.5, 2612.5, 2613.5, 2614.5, 2615.5, 2616.5, 2617.5, 2618.5, 2619.5, 2620.5, 2621.5, 2622.5, 2623.5, 2624.5, 2625.5, 2626.5, 2627.5, 2628.5, 2629.5, 2630.5, 2631.5, 2632.5, 2633.5, 2634.5, 2635.5, 2636.5, 2637.5, 2638.5, 2639.5, 2640.5, 2641.5, 2642.5, 2643.5, 2644.5, 2645.5, 2646.5, 2647.5, 2648.5, 2649.5, 2650.5, 2651.5, 2652.5, 2653.5, 2654.5, 2655.5, 2656.5, 2657.5, 2658.5, 2659.5, 2660.5, 2661.5, 2662.5, 2664.5, 2665.5, 2666.5, 2667.5, 2668.5, 2669.5, 2670.5, 2671.5, 2672.5, 2673.5, 2674.5, 2675.5, 2676.5, 2677.5, 2678.5, 2679.5, 2680.5, 2681.5, 2682.5, 2683.5, 2684.5, 2685.5, 2686.5, 2687.5, 2688.5, 2689.5, 2690.5, 2691.5, 2692.5, 2693.5, 2694.5, 2695.5, 2696.5, 2697.5, 2698.5, 2699.5, 2700.5, 2701.5, 2702.5, 2704.5, 2705.5, 2706.5, 2707.5, 2708.5, 2709.5, 2710.5, 2711.5, 2712.5, 2713.5, 2714.5, 2715.5, 2716.5, 2717.5, 2718.5, 2719.5, 2720.5, 2721.5, 2722.5, 2723.5, 2724.5, 2725.5, 2726.5, 2727.5, 2728.5, 2729.5, 2730.5, 2731.5, 2732.5, 2733.5, 2734.5, 2735.5, 2736.5, 2737.5, 2738.5, 2739.5, 2740.5, 2741.5, 2742.5, 2743.5, 2744.5, 2745.5, 2746.5, 2747.5, 2748.5, 2749.5, 2750.5, 2751.5, 2752.5, 2753.5, 2754.5, 2755.5, 2756.5, 2757.5, 2758.5, 2759.5, 2760.5, 2761.5, 2762.5, 2763.5, 2764.5, 2765.5, 2767.5, 2769.5, 2770.5, 2771.5, 2773.5, 2774.5, 2775.5, 2776.5, 2777.5, 2778.5, 2779.5, 2780.5, 2781.5, 2782.5, 2783.5, 2784.5, 2785.5, 2786.5, 2787.5, 2788.5, 2789.5, 2790.5, 2791.5, 2792.5, 2793.5, 2794.5, 2795.5, 2796.5, 2797.5, 2798.5, 2799.5, 2800.5, 2801.5, 2802.5, 2803.5, 2804.5, 2805.5, 2806.5, 2807.5, 2808.5, 2809.5, 2810.5, 2812.5, 2813.5, 2814.5, 2815.5, 2816.5, 2817.5, 2818.5, 2819.5, 2820.5, 2821.5, 2822.5, 2823.5, 2824.5, 2825.5, 2826.5, 2827.5, 2828.5, 2829.5, 2831.5, 2832.5, 2833.5, 2834.5, 2835.5, 2836.5, 2837.5, 2838.5, 2839.5, 2840.5, 2841.5, 2842.5, 2843.5, 2844.5, 2845.5, 2846.5, 2847.5, 2848.5, 2849.5, 2850.5, 2851.5, 2853.5, 2854.5, 2855.5, 2856.5, 2857.5, 2858.5, 2859.5, 2860.5, 2861.5, 2862.5, 2863.5, 2864.5, 2865.5, 2866.5, 2867.5, 2868.5, 2869.5, 2870.5, 2871.5, 2872.5, 2873.5, 2874.5, 2875.5, 2876.5, 2877.5, 2878.5, 2879.5, 2880.5, 2881.5, 2882.5, 2883.5, 2884.5, 2885.5, 2886.5, 2887.5, 2888.5, 2889.5, 2890.5, 2891.5, 2892.5, 2893.5, 2895.5, 2896.5, 2897.5, 2898.5, 2899.5, 2900.5, 2901.5, 2902.5, 2903.5, 2904.5, 2905.5, 2906.5, 2907.5, 2908.5, 2909.5, 2910.5, 2911.5, 2912.5, 2913.5, 2914.5, 2915.5, 2916.5, 2917.5, 2918.5, 2919.5, 2920.5, 2921.5, 2922.5, 2923.5, 2924.5, 2925.5, 2926.5, 2927.5, 2928.5, 2929.5, 2930.5, 2931.5, 2932.5, 2933.5, 2934.5, 2935.5, 2936.5, 2937.5, 2938.5, 2939.5, 2940.5, 2941.5, 2942.5, 2943.5, 2944.5, 2945.5, 2946.5, 2947.5, 2948.5, 2949.5, 2950.5, 2951.5, 2952.5, 2953.5, 2954.5, 2955.5, 2956.5, 2957.5, 2958.5, 2959.5, 2960.5, 2961.5, 2962.5, 2963.5, 2964.5, 2965.5, 2966.5, 2967.5, 2968.5, 2969.5, 2970.5, 2971.5, 2972.5, 2973.5, 2975.5, 2976.5, 2977.5, 2978.5, 2979.5, 2980.5, 2981.5, 2982.5, 2983.5, 2984.5, 2985.5, 2986.5, 2987.5, 2988.5, 2989.5, 2990.5, 2991.5, 2992.5, 2993.5, 2994.5, 2995.5, 2996.5, 2997.5, 2998.5, 2999.5, 3000.5, 3001.5, 3002.5, 3003.5, 3004.5, 3005.5, 3006.5, 3007.5, 3008.5, 3009.5, 3010.5, 3011.5, 3013.5, 3014.5, 3015.5, 3016.5, 3017.5, 3018.5, 3019.5, 3021.5, 3022.5, 3023.5, 3024.5, 3025.5, 3026.5, 3027.5, 3028.5, 3029.5, 3030.5, 3031.5, 3032.5, 3033.5, 3034.5, 3035.5, 3036.5, 3037.5, 3038.5, 3039.5, 3040.5, 3041.5, 3042.5, 3043.5, 3044.5, 3045.5, 3046.5, 3047.5, 3048.5, 3049.5, 3050.5, 3051.5, 3052.5, 3053.5, 3054.5, 3055.5, 3056.5, 3057.5, 3058.5, 3059.5, 3060.5, 3061.5, 3062.5, 3063.5, 3065.5, 3066.5, 3067.5, 3068.5, 3070.5, 3071.5, 3072.5, 3073.5, 3074.5, 3075.5, 3076.5, 3077.5, 3078.5, 3079.5, 3080.5, 3081.5, 3082.5, 3083.5, 3085.5, 3086.5, 3087.5, 3088.5, 3089.5, 3090.5, 3091.5, 3092.5, 3093.5, 3094.5, 3095.5, 3096.5, 3097.5, 3098.5, 3099.5, 3100.5, 3101.5, 3102.5, 3103.5, 3104.5, 3105.5, 3106.5, 3107.5, 3108.5, 3109.5, 3110.5, 3111.5, 3112.5, 3113.5, 3114.5, 3115.5, 3116.5, 3117.5, 3118.5, 3119.5, 3120.5, 3121.5, 3122.5, 3123.5, 3124.5, 3125.5, 3126.5, 3127.5, 3128.5, 3129.5, 3130.5, 3131.5, 3132.5, 3133.5, 3134.5, 3135.5, 3136.5, 3137.5, 3138.5, 3139.5, 3140.5, 3141.5, 3142.5, 3143.5, 3144.5, 3145.5, 3146.5, 3147.5, 3148.5, 3149.5, 3150.5, 3151.5, 3154.5, 3155.5, 3156.5, 3157.5, 3158.5, 3159.5, 3160.5, 3161.5, 3162.5, 3163.5, 3164.5, 3165.5, 3166.5, 3167.5, 3168.5, 3169.5, 3170.5, 3171.5, 3172.5, 3173.5, 3174.5, 3175.5, 3176.5, 3177.5, 3178.5, 3179.5, 3180.5, 3181.5, 3182.5, 3183.5, 3184.5, 3185.5, 3186.5, 3187.5, 3188.5, 3189.5, 3190.5, 3191.5, 3192.5, 3193.5, 3194.5, 3195.5, 3196.5, 3197.5, 3198.5, 3199.5, 3200.5, 3201.5, 3202.5, 3203.5, 3204.5, 3205.5, 3206.5, 3207.5, 3208.5, 3209.5, 3210.5, 3211.5, 3212.5, 3213.5, 3214.5, 3215.5, 3216.5, 3217.5, 3218.5, 3219.5, 3220.5, 3221.5, 3222.5, 3223.5, 3224.5, 3225.5, 3226.5, 3227.5, 3228.5, 3229.5, 3230.5, 3231.5, 3232.5, 3233.5, 3234.5, 3235.5, 3236.5, 3237.5, 3238.5, 3239.5, 3240.5, 3241.5, 3242.5, 3243.5, 3244.5, 3245.5, 3246.5, 3247.5, 3248.5, 3249.5, 3250.5, 3251.5, 3252.5, 3253.5, 3254.5, 3255.5, 3256.5, 3257.5, 3258.5, 3259.5, 3260.5, 3261.5, 3262.5, 3263.5, 3264.5, 3266.5, 3267.5, 3268.5, 3269.5, 3270.5, 3271.5, 3272.5, 3273.5, 3274.5, 3275.5, 3276.5, 3277.5, 3278.5, 3279.5, 3280.5, 3281.5, 3282.5, 3283.5, 3284.5, 3285.5, 3286.5, 3287.5, 3288.5, 3289.5, 3290.5, 3291.5, 3292.5, 3293.5, 3294.5, 3295.5, 3296.5, 3297.5, 3298.5, 3299.5, 3300.5, 3301.5, 3302.5, 3303.5, 3304.5, 3305.5, 3306.5, 3307.5, 3308.5, 3309.5, 3310.5, 3311.5, 3312.5, 3313.5, 3314.5, 3315.5, 3317.5, 3318.5, 3319.5, 3320.5, 3321.5, 3322.5, 3323.5, 3324.5, 3325.5, 3327.5, 3328.5, 3329.5, 3330.5, 3331.5, 3332.5, 3333.5, 3334.5, 3335.5, 3336.5, 3337.5, 3338.5, 3339.5, 3340.5, 3341.5, 3342.5, 3343.5, 3344.5, 3345.5, 3346.5, 3347.5, 3348.5, 3349.5, 3350.5, 3351.5, 3352.5, 3353.5, 3354.5, 3355.5, 3356.5, 3357.5, 3358.5, 3359.5, 3360.5, 3361.5, 3362.5, 3363.5, 3364.5, 3365.5, 3366.5, 3367.5, 3368.5, 3369.5, 3370.5, 3371.5, 3372.5, 3373.5, 3374.5, 3375.5, 3376.5, 3377.5, 3378.5, 3379.5, 3380.5, 3381.5, 3382.5, 3383.5, 3384.5, 3385.5, 3386.5, 3387.5, 3388.5, 3389.5, 3390.5, 3391.5, 3392.5, 3394.5, 3395.5, 3396.5, 3397.5, 3398.5, 3399.5, 3400.5, 3401.5, 3402.5, 3403.5, 3404.5, 3405.5, 3406.5, 3407.5, 3408.5, 3409.5, 3410.5, 3411.5, 3413.5, 3414.5, 3415.5, 3416.5, 3417.5, 3418.5, 3419.5, 3420.5, 3421.5, 3422.5, 3423.5, 3424.5, 3425.5, 3426.5, 3428.5, 3429.5, 3430.5, 3431.5, 3432.5, 3433.5, 3434.5, 3435.5, 3436.5, 3437.5, 3438.5, 3439.5, 3440.5, 3441.5, 3442.5, 3443.5, 3444.5, 3445.5, 3447.5, 3448.5, 3449.5, 3450.5, 3451.5, 3452.5, 3453.5, 3454.5, 3455.5, 3456.5, 3457.5, 3458.5, 3459.5, 3460.5, 3461.5, 3462.5, 3463.5, 3465.5, 3466.5, 3467.5, 3468.5, 3469.5, 3470.5, 3471.5, 3472.5, 3473.5, 3474.5, 3475.5, 3476.5, 3477.5, 3478.5, 3479.5, 3480.5, 3481.5, 3482.5, 3483.5, 3484.5, 3485.5, 3486.5, 3487.5, 3488.5, 3489.5, 3490.5, 3491.5, 3492.5, 3493.5, 3494.5, 3495.5, 3496.5, 3499.5, 3500.5, 3501.5, 3502.5, 3503.5, 3504.5, 3505.5, 3506.5, 3507.5, 3508.5, 3509.5, 3510.5, 3511.5, 3512.5, 3513.5, 3514.5, 3515.5, 3516.5, 3518.5, 3519.5, 3520.5, 3521.5, 3522.5, 3523.5, 3524.5, 3525.5, 3526.5, 3527.5, 3528.5, 3529.5, 3530.5, 3531.5, 3532.5, 3533.5, 3534.5, 3535.5, 3536.5, 3537.5, 3538.5, 3539.5, 3540.5, 3541.5, 3542.5, 3543.5, 3544.5, 3545.5, 3546.5, 3548.5, 3549.5, 3550.5, 3551.5, 3552.5, 3553.5, 3554.5, 3555.5, 3556.5, 3557.5, 3558.5, 3559.5, 3560.5, 3561.5, 3562.5, 3563.5, 3564.5, 3565.5, 3566.5, 3567.5, 3568.5, 3569.5, 3570.5, 3571.5, 3572.5, 3573.5, 3574.5, 3575.5, 3576.5, 3577.5, 3578.5, 3579.5, 3580.5, 3581.5, 3582.5, 3583.5, 3584.5, 3585.5, 3586.5, 3587.5, 3588.5, 3589.5, 3590.5, 3591.5, 3592.5, 3593.5, 3594.5, 3595.5, 3596.5, 3597.5, 3598.5, 3599.5, 3600.5, 3601.5, 3602.5, 3603.5, 3604.5, 3605.5, 3606.5, 3607.5, 3608.5, 3610.5, 3611.5, 3612.5, 3613.5, 3614.5, 3615.5, 3616.5, 3617.5, 3618.5, 3619.5, 3620.5, 3621.5, 3622.5, 3623.5, 3624.5, 3625.5, 3626.5, 3627.5, 3628.5, 3629.5, 3630.5, 3631.5, 3632.5, 3633.5, 3634.5, 3635.5, 3636.5, 3637.5, 3638.5, 3639.5, 3640.5, 3641.5, 3642.5, 3643.5, 3644.5, 3645.5, 3646.5, 3647.5, 3648.5, 3649.5, 3650.5, 3651.5, 3652.5, 3653.5, 3654.5, 3655.5, 3656.5, 3657.5, 3659.5, 3660.5, 3661.5, 3662.5, 3663.5, 3664.5, 3665.5, 3666.5, 3667.5, 3668.5, 3669.5, 3670.5, 3671.5, 3672.5, 3673.5, 3674.5, 3675.5, 3677.5, 3678.5, 3679.5, 3680.5, 3681.5, 3682.5, 3683.5, 3684.5, 3685.5, 3686.5, 3687.5, 3688.5, 3690.5, 3691.5, 3692.5, 3693.5, 3694.5, 3695.5, 3696.5, 3697.5, 3698.5, 3699.5, 3700.5, 3701.5, 3702.5, 3703.5, 3704.5, 3705.5, 3706.5, 3708.5, 3709.5, 3710.5, 3711.5, 3712.5, 3713.5, 3714.5, 3715.5, 3716.5, 3717.5, 3718.5, 3719.5, 3720.5, 3721.5, 3722.5, 3723.5, 3724.5, 3725.5, 3726.5, 3727.5, 3728.5, 3729.5, 3730.5, 3731.5, 3732.5, 3733.5, 3734.5, 3735.5, 3736.5, 3737.5, 3738.5, 3739.5, 3740.5, 3741.5, 3742.5, 3743.5, 3744.5, 3745.5, 3746.5, 3747.5, 3748.5, 3749.5, 3750.5, 3751.5, 3753.5, 3754.5, 3755.5, 3756.5, 3758.5, 3759.5, 3760.5, 3761.5, 3762.5, 3763.5, 3764.5, 3765.5, 3766.5, 3767.5, 3768.5, 3769.5, 3770.5, 3771.5, 3773.5, 3774.5, 3775.5, 3776.5, 3777.5, 3778.5, 3779.5, 3780.5, 3781.5, 3782.5, 3783.5, 3784.5, 3785.5, 3786.5, 3787.5, 3788.5, 3789.5, 3790.5, 3791.5, 3792.5, 3793.5, 3794.5, 3795.5, 3796.5, 3798.5, 3799.5, 3800.5, 3801.5, 3802.5, 3803.5, 3804.5, 3805.5, 3806.5, 3807.5, 3808.5, 3809.5, 3810.5, 3811.5, 3812.5, 3813.5, 3814.5, 3815.5, 3816.5, 3817.5, 3818.5, 3819.5, 3820.5, 3821.5, 3822.5, 3823.5, 3824.5, 3825.5, 3826.5, 3827.5, 3828.5, 3829.5, 3830.5, 3831.5, 3832.5, 3833.5, 3834.5, 3835.5, 3836.5, 3837.5, 3838.5, 3839.5, 3840.5, 3841.5, 3842.5, 3843.5, 3844.5, 3845.5, 3846.5, 3847.5, 3848.5, 3849.5, 3850.5, 3851.5, 3852.5, 3853.5, 3854.5, 3855.5, 3856.5, 3857.5, 3858.5, 3859.5, 3860.5, 3861.5, 3862.5, 3863.5, 3864.5, 3865.5, 3866.5, 3867.5, 3868.5, 3870.5, 3871.5, 3872.5, 3873.5, 3874.5, 3875.5, 3876.5, 3877.5, 3878.5, 3879.5, 3880.5, 3881.5, 3882.5, 3883.5, 3884.5, 3885.5, 3886.5, 3887.5, 3888.5, 3889.5, 3890.5, 3891.5, 3892.5, 3893.5, 3895.5, 3896.5, 3897.5, 3898.5, 3899.5, 3900.5, 3901.5, 3902.5, 3903.5, 3904.5, 3905.5, 3906.5, 3907.5, 3908.5, 3909.5, 3910.5, 3911.5, 3912.5, 3913.5, 3914.5, 3915.5, 3917.5, 3918.5, 3919.5, 3920.5, 3921.5, 3922.5, 3923.5, 3924.5, 3925.5, 3926.5, 3927.5, 3928.5, 3929.5, 3930.5, 3931.5, 3932.5, 3933.5, 3934.5, 3935.5, 3936.5, 3937.5, 3938.5, 3939.5, 3940.5, 3941.5, 3942.5, 3943.5, 3944.5, 3945.5, 3946.5, 3947.5, 3948.5, 3949.5, 3950.5, 3951.5, 3952.5, 3953.5, 3954.5, 3955.5, 3956.5, 3957.5, 3959.5, 3960.5, 3961.5, 3962.5, 3963.5, 3964.5, 3965.5, 3966.5, 3967.5, 3968.5, 3969.5, 3970.5, 3971.5, 3972.5, 3973.5, 3974.5, 3975.5, 3976.5, 3977.5, 3978.5, 3979.5, 3980.5, 3981.5, 3982.5, 3983.5, 3984.5, 3985.5, 3986.5, 3987.5, 3988.5, 3989.5, 3990.5, 3991.5, 3992.5, 3993.5, 3994.5, 3995.5, 3996.5, 3997.5, 3998.5, 3999.5, 4000.5, 4001.5, 4003.5, 4004.5, 4005.5, 4006.5, 4009.5, 4010.5, 4011.5, 4012.5, 4013.5, 4014.5, 4015.5, 4016.5, 4017.5, 4018.5, 4019.5, 4020.5, 4021.5, 4022.5, 4023.5, 4024.5, 4025.5, 4026.5, 4027.5, 4028.5, 4029.5, 4030.5, 4031.5, 4032.5, 4033.5, 4034.5, 4036.5, 4037.5, 4038.5, 4039.5, 4040.5, 4041.5, 4042.5, 4043.5, 4044.5, 4045.5, 4046.5, 4047.5, 4048.5, 4049.5, 4050.5, 4051.5, 4053.5, 4054.5, 4055.5, 4056.5, 4057.5, 4058.5, 4059.5, 4060.5, 4061.5, 4062.5, 4063.5, 4064.5, 4065.5, 4066.5, 4067.5, 4068.5, 4069.5, 4070.5, 4071.5, 4072.5, 4073.5, 4074.5, 4075.5, 4077.5, 4078.5, 4079.5, 4081.5, 4082.5, 4083.5, 4084.5, 4085.5, 4086.5, 4087.5, 4088.5, 4089.5, 4090.5, 4091.5, 4092.5, 4093.5, 4094.5, 4096.5, 4097.5, 4099.5, 4100.5, 4101.5, 4102.5, 4103.5, 4104.5, 4105.5, 4106.5, 4107.5, 4108.5, 4109.5, 4110.5, 4111.5, 4113.5, 4115.5, 4116.5, 4118.5, 4119.5, 4120.5, 4121.5, 4122.5, 4123.5, 4124.5, 4125.5, 4126.5, 4127.5, 4128.5, 4129.5, 4130.5, 4131.5, 4132.5, 4133.5, 4134.5, 4135.5, 4136.5, 4138.5, 4139.5, 4140.5, 4141.5, 4142.5, 4143.5, 4144.5, 4145.5, 4146.5, 4147.5, 4148.5, 4149.5, 4150.5, 4151.5, 4152.5, 4153.5, 4154.5, 4155.5, 4156.5, 4157.5, 4159.5, 4161.5, 4162.5, 4163.5, 4164.5, 4165.5, 4166.5, 4167.5, 4168.5, 4169.5, 4170.5, 4171.5, 4172.5, 4175.5, 4176.5, 4177.5, 4178.5, 4179.5, 4180.5, 4181.5, 4182.5, 4183.5, 4184.5, 4185.5, 4186.5, 4187.5, 4188.5, 4189.5, 4190.5, 4191.5, 4192.5, 4193.5, 4194.5, 4195.5, 4197.5, 4198.5, 4199.5, 4200.5, 4201.5, 4202.5, 4203.5, 4204.5, 4205.5, 4206.5, 4207.5, 4208.5, 4209.5, 4210.5, 4211.5, 4212.5, 4213.5, 4214.5, 4215.5, 4216.5, 4217.5, 4218.5, 4219.5, 4220.5, 4222.5, 4223.5, 4224.5, 4225.5, 4227.5, 4228.5, 4229.5, 4230.5, 4231.5, 4232.5, 4233.5, 4234.5, 4235.5, 4236.5, 4237.5, 4238.5, 4240.5, 4241.5, 4242.5, 4243.5, 4244.5, 4245.5, 4246.5, 4247.5, 4248.5, 4249.5, 4250.5, 4251.5, 4252.5, 4253.5, 4254.5, 4255.5, 4257.5, 4258.5, 4259.5, 4260.5, 4261.5, 4262.5, 4263.5, 4264.5, 4265.5, 4266.5, 4267.5, 4268.5, 4269.5, 4270.5, 4271.5, 4272.5, 4273.5, 4274.5, 4275.5, 4276.5, 4277.5, 4278.5, 4279.5, 4280.5, 4281.5, 4282.5, 4283.5, 4284.5, 4285.5, 4286.5, 4287.5, 4288.5, 4289.5, 4290.5, 4291.5, 4292.5, 4293.5, 4294.5, 4295.5, 4296.5, 4297.5, 4298.5, 4299.5, 4300.5, 4301.5, 4302.5, 4303.5, 4304.5, 4305.5, 4306.5, 4307.5, 4308.5, 4309.5, 4310.5, 4311.5, 4312.5, 4313.5, 4314.5, 4315.5, 4316.5, 4317.5, 4318.5, 4319.5, 4320.5, 4321.5, 4322.5, 4323.5, 4324.5, 4325.5, 4326.5, 4327.5, 4328.5, 4329.5, 4330.5, 4331.5, 4332.5, 4333.5, 4334.5, 4335.5, 4336.5, 4337.5, 4338.5, 4339.5, 4340.5, 4341.5, 4342.5, 4343.5, 4344.5, 4345.5, 4346.5, 4347.5, 4348.5, 4349.5, 4350.5, 4351.5, 4352.5, 4353.5, 4354.5, 4355.5, 4357.5, 4358.5, 4359.5, 4360.5, 4361.5, 4362.5, 4363.5, 4364.5, 4365.5, 4366.5, 4367.5, 4369.5, 4370.5, 4371.5, 4372.5, 4373.5, 4374.5, 4375.5, 4376.5, 4377.5, 4378.5, 4379.5, 4381.5, 4382.5, 4383.5, 4384.5, 4385.5, 4386.5, 4388.5, 4390.5, 4392.5, 4393.5, 4394.5, 4395.5, 4396.5, 4397.5, 4398.5, 4399.5, 4400.5, 4401.5, 4402.5, 4403.5, 4404.5, 4405.5, 4406.5, 4408.5, 4409.5, 4410.5, 4411.5, 4412.5, 4413.5, 4414.5, 4415.5, 4416.5, 4417.5, 4419.5, 4420.5, 4421.5, 4422.5, 4423.5, 4424.5, 4425.5, 4426.5, 4427.5, 4428.5, 4429.5, 4430.5, 4431.5, 4432.5, 4433.5, 4434.5, 4435.5, 4436.5, 4437.5, 4438.5, 4439.5, 4440.5, 4441.5, 4442.5, 4444.5, 4445.5, 4446.5, 4447.5, 4448.5, 4449.5, 4450.5, 4451.5, 4452.5, 4453.5, 4454.5, 4455.5, 4457.5, 4458.5, 4459.5, 4460.5, 4461.5, 4462.5, 4463.5, 4464.5, 4465.5, 4466.5, 4467.5, 4468.5, 4469.5, 4470.5, 4471.5, 4472.5, 4473.5, 4474.5, 4475.5, 4476.5, 4477.5, 4478.5, 4479.5, 4480.5, 4481.5, 4482.5, 4484.5, 4485.5, 4486.5, 4487.5, 4488.5, 4489.5, 4490.5, 4491.5, 4492.5, 4494.5, 4495.5, 4496.5, 4497.5, 4498.5, 4499.5, 4500.5, 4501.5, 4502.5, 4503.5, 4504.5, 4505.5, 4506.5, 4507.5, 4508.5, 4509.5, 4510.5, 4511.5, 4512.5, 4513.5, 4514.5, 4515.5, 4516.5, 4517.5, 4518.5, 4519.5, 4520.5, 4521.5, 4523.5, 4524.5, 4525.5, 4526.5, 4527.5, 4528.5, 4529.5, 4530.5, 4531.5, 4532.5, 4533.5, 4534.5, 4535.5, 4536.5, 4537.5, 4538.5, 4539.5, 4540.5, 4542.5, 4543.5, 4544.5, 4545.5, 4546.5, 4547.5, 4548.5, 4549.5, 4550.5, 4551.5, 4552.5, 4553.5, 4554.5, 4555.5, 4556.5, 4557.5, 4559.5, 4560.5, 4561.5, 4562.5, 4563.5, 4564.5, 4565.5, 4566.5, 4567.5, 4568.5, 4569.5, 4570.5, 4571.5, 4572.5, 4573.5, 4574.5, 4575.5, 4576.5, 4577.5, 4578.5, 4580.5, 4581.5, 4582.5, 4583.5, 4584.5, 4585.5, 4586.5, 4587.5, 4588.5, 4589.5, 4590.5, 4591.5, 4592.5, 4593.5, 4594.5, 4595.5, 4596.5, 4597.5, 4598.5, 4599.5, 4600.5, 4601.5, 4602.5, 4603.5, 4605.5, 4606.5, 4608.5, 4609.5, 4610.5, 4611.5, 4612.5, 4613.5, 4614.5, 4615.5, 4616.5, 4617.5, 4619.5, 4620.5, 4621.5, 4622.5, 4623.5, 4624.5, 4625.5, 4626.5, 4627.5, 4628.5, 4629.5, 4630.5, 4631.5, 4632.5, 4634.5, 4635.5, 4636.5, 4637.5, 4638.5, 4639.5, 4640.5, 4641.5, 4642.5, 4643.5, 4645.5, 4646.5, 4647.5, 4648.5, 4649.5, 4650.5, 4651.5, 4652.5, 4653.5, 4654.5, 4655.5, 4656.5, 4657.5, 4659.5, 4660.5, 4661.5, 4662.5, 4663.5, 4664.5, 4665.5, 4666.5, 4667.5, 4668.5, 4669.5, 4670.5, 4671.5, 4672.5, 4674.5, 4675.5, 4676.5, 4677.5, 4678.5, 4679.5, 4680.5, 4681.5, 4682.5, 4683.5, 4684.5, 4685.5, 4686.5, 4687.5, 4688.5, 4689.5, 4690.5, 4691.5, 4692.5, 4693.5, 4694.5, 4695.5, 4696.5, 4697.5, 4698.5, 4699.5, 4700.5, 4701.5, 4702.5, 4703.5, 4704.5, 4705.5, 4706.5, 4707.5, 4708.5, 4709.5, 4710.5, 4711.5, 4712.5, 4713.5, 4714.5, 4715.5, 4716.5, 4717.5, 4719.5, 4720.5, 4721.5, 4722.5, 4723.5, 4724.5, 4725.5, 4726.5, 4727.5, 4728.5, 4729.5, 4730.5, 4731.5, 4732.5, 4733.5, 4734.5, 4735.5, 4736.5, 4737.5, 4738.5, 4739.5, 4740.5, 4741.5, 4742.5, 4743.5, 4744.5, 4745.5, 4746.5, 4747.5, 4748.5, 4749.5, 4750.5, 4751.5, 4752.5, 4753.5, 4754.5, 4755.5, 4756.5, 4757.5, 4758.5, 4759.5, 4760.5, 4761.5, 4762.5, 4763.5, 4764.5, 4765.5, 4766.5, 4767.5, 4768.5, 4769.5, 4771.5, 4772.5, 4773.5, 4774.5, 4775.5, 4776.5, 4777.5, 4778.5, 4779.5, 4780.5, 4781.5, 4782.5, 4783.5, 4784.5, 4785.5, 4786.5, 4787.5, 4788.5, 4789.5, 4790.5, 4791.5, 4792.5, 4793.5, 4794.5, 4795.5, 4796.5, 4797.5, 4798.5, 4799.5, 4800.5, 4801.5, 4802.5, 4803.5, 4804.5, 4805.5, 4806.5, 4807.5, 4809.5, 4810.5, 4811.5, 4812.5, 4813.5, 4814.5, 4815.5, 4816.5, 4817.5, 4818.5, 4819.5, 4820.5, 4821.5, 4822.5, 4823.5, 4824.5, 4825.5, 4826.5, 4827.5, 4829.5, 4830.5, 4831.5, 4832.5, 4834.5, 4835.5, 4836.5, 4837.5, 4838.5, 4839.5, 4840.5, 4841.5, 4842.5, 4843.5, 4844.5, 4845.5, 4846.5, 4847.5, 4848.5, 4849.5, 4850.5, 4852.5, 4853.5, 4854.5, 4855.5, 4857.5, 4858.5, 4859.5, 4860.5, 4861.5, 4862.5, 4863.5, 4864.5, 4865.5, 4866.5, 4867.5, 4868.5, 4869.5, 4870.5, 4871.5, 4872.5, 4873.5, 4874.5, 4875.5, 4876.5, 4877.5, 4878.5, 4879.5, 4882.5, 4884.5, 4885.5, 4886.5, 4887.5, 4888.5, 4889.5, 4890.5, 4891.5, 4892.5, 4893.5, 4894.5, 4895.5, 4896.5, 4897.5, 4898.5, 4899.5, 4900.5, 4901.5, 4903.5, 4904.5, 4905.5, 4906.5, 4909.5, 4910.5, 4911.5, 4913.5, 4914.5, 4915.5, 4916.5, 4917.5, 4918.5, 4919.5, 4920.5, 4921.5, 4922.5, 4923.5, 4924.5, 4925.5, 4926.5, 4927.5, 4928.5, 4929.5, 4930.5, 4931.5, 4932.5, 4933.5, 4934.5, 4937.5, 4938.5, 4939.5, 4941.5, 4942.5, 4943.5, 4944.5, 4945.5, 4946.5, 4947.5, 4948.5, 4949.5, 4950.5, 4951.5, 4952.5, 4953.5, 4954.5, 4955.5, 4956.5, 4957.5, 4958.5, 4959.5, 4960.5, 4961.5, 4962.5, 4963.5, 4964.5, 4965.5, 4966.5, 4967.5, 4968.5, 4969.5, 4970.5, 4971.5, 4972.5, 4973.5, 4974.5, 4975.5, 4976.5, 4977.5, 4978.5, 4979.5, 4980.5, 4981.5, 4982.5, 4983.5, 4984.5, 4985.5, 4986.5, 4987.5, 4988.5, 4989.5, 4990.5, 4991.5, 4992.5, 4993.5, 4994.5, 4995.5, 4996.5, 4997.5, 4998.5, 4999.5, 5000.5, 5001.5, 5002.5, 5003.5, 5004.5, 5005.5, 5006.5, 5007.5, 5008.5, 5009.5, 5010.5, 5011.5, 5012.5, 5013.5, 5015.5, 5016.5, 5017.5, 5018.5, 5019.5, 5020.5, 5021.5, 5022.5, 5024.5, 5025.5, 5026.5, 5027.5, 5028.5, 5030.5, 5031.5, 5032.5, 5033.5, 5034.5, 5035.5, 5036.5, 5037.5, 5038.5, 5039.5, 5040.5, 5041.5, 5042.5, 5043.5, 5044.5, 5045.5, 5046.5, 5047.5, 5048.5, 5049.5, 5050.5, 5051.5, 5052.5, 5053.5, 5054.5, 5055.5, 5056.5, 5057.5, 5059.5, 5060.5, 5061.5, 5062.5, 5063.5, 5064.5, 5065.5, 5066.5, 5067.5, 5068.5, 5071.5, 5073.5, 5074.5, 5075.5, 5077.5, 5078.5, 5079.5, 5080.5, 5081.5, 5082.5, 5084.5, 5085.5, 5086.5, 5087.5, 5089.5, 5090.5, 5091.5, 5092.5, 5093.5, 5094.5, 5095.5, 5097.5, 5098.5, 5099.5, 5100.5, 5101.5, 5102.5, 5103.5, 5104.5, 5105.5, 5106.5, 5107.5, 5108.5, 5109.5, 5110.5, 5111.5, 5112.5, 5113.5, 5114.5, 5115.5, 5116.5, 5117.5, 5118.5, 5119.5, 5120.5, 5121.5, 5122.5, 5124.5, 5125.5, 5126.5, 5127.5, 5128.5, 5129.5, 5130.5, 5131.5, 5132.5, 5133.5, 5134.5, 5135.5, 5136.5, 5137.5, 5138.5, 5139.5, 5140.5, 5141.5, 5142.5, 5143.5, 5144.5, 5145.5, 5146.5, 5147.5, 5149.5, 5150.5, 5152.5, 5153.5, 5154.5, 5155.5, 5156.5, 5157.5, 5158.5, 5159.5, 5160.5, 5162.5, 5163.5, 5164.5, 5165.5, 5166.5, 5167.5, 5168.5, 5169.5, 5170.5, 5171.5, 5172.5, 5173.5, 5174.5, 5176.5, 5177.5, 5178.5, 5179.5, 5180.5, 5181.5, 5182.5, 5183.5, 5184.5, 5185.5, 5186.5, 5187.5, 5188.5, 5189.5, 5190.5, 5191.5, 5192.5, 5193.5, 5194.5, 5195.5, 5196.5, 5197.5, 5198.5, 5199.5, 5200.5, 5201.5, 5202.5, 5203.5, 5204.5, 5205.5, 5206.5, 5207.5, 5208.5, 5209.5, 5210.5, 5212.5, 5213.5, 5214.5, 5215.5, 5216.5, 5217.5, 5218.5, 5219.5, 5220.5, 5221.5, 5222.5, 5223.5, 5224.5, 5225.5, 5226.5, 5227.5, 5228.5, 5229.5, 5230.5, 5231.5, 5233.5, 5234.5, 5235.5, 5237.5, 5238.5, 5239.5, 5240.5, 5241.5, 5242.5, 5243.5, 5244.5, 5245.5, 5246.5, 5247.5, 5248.5, 5249.5, 5250.5, 5252.5, 5253.5, 5254.5, 5255.5, 5256.5, 5257.5, 5258.5, 5259.5, 5260.5, 5261.5, 5262.5, 5263.5, 5264.5, 5265.5, 5266.5, 5267.5, 5268.5, 5269.5, 5270.5, 5274.5, 5275.5, 5276.5, 5277.5, 5278.5, 5279.5, 5280.5, 5282.5, 5283.5, 5284.5, 5285.5, 5286.5, 5287.5, 5288.5, 5290.5, 5291.5, 5292.5, 5293.5, 5294.5, 5295.5, 5296.5, 5297.5, 5298.5, 5299.5, 5300.5, 5301.5, 5303.5, 5304.5, 5305.5, 5306.5, 5307.5, 5308.5, 5310.5, 5311.5, 5312.5, 5313.5, 5314.5, 5316.5, 5317.5, 5318.5, 5319.5, 5320.5, 5322.5, 5323.5, 5324.5, 5325.5, 5326.5, 5327.5, 5329.5, 5332.5, 5333.5, 5334.5, 5337.5, 5338.5, 5339.5, 5340.5, 5341.5, 5342.5, 5343.5, 5344.5, 5345.5, 5346.5, 5347.5, 5348.5, 5349.5, 5350.5, 5351.5, 5352.5, 5353.5, 5354.5, 5355.5, 5356.5, 5357.5, 5358.5, 5360.5, 5361.5, 5362.5, 5363.5, 5364.5, 5365.5, 5366.5, 5367.5, 5368.5, 5369.5, 5370.5, 5371.5, 5372.5, 5373.5, 5374.5, 5376.5, 5377.5, 5378.5, 5379.5, 5380.5, 5382.5, 5383.5, 5385.5, 5386.5, 5387.5, 5388.5, 5389.5, 5390.5, 5391.5, 5392.5, 5394.5, 5395.5, 5396.5, 5398.5, 5400.5, 5401.5, 5402.5, 5404.5, 5405.5, 5406.5, 5407.5, 5408.5, 5409.5, 5410.5, 5411.5, 5412.5, 5413.5, 5414.5, 5415.5, 5416.5, 5417.5, 5418.5, 5419.5, 5420.5, 5421.5, 5422.5, 5423.5, 5424.5, 5425.5, 5426.5, 5427.5, 5428.5, 5429.5, 5430.5, 5433.5, 5435.5, 5436.5, 5437.5, 5438.5, 5439.5, 5440.5, 5441.5, 5442.5, 5443.5, 5444.5, 5445.5, 5446.5, 5447.5, 5448.5, 5449.5, 5450.5, 5451.5, 5452.5, 5453.5, 5454.5, 5455.5, 5456.5, 5457.5, 5458.5, 5459.5, 5460.5, 5461.5, 5462.5, 5463.5, 5464.5, 5465.5, 5466.5, 5467.5, 5468.5, 5469.5, 5470.5, 5471.5, 5472.5, 5473.5, 5474.5, 5475.5, 5477.5, 5478.5, 5479.5, 5480.5, 5481.5, 5482.5, 5483.5, 5484.5, 5486.5, 5487.5, 5488.5, 5489.5, 5490.5, 5491.5, 5493.5, 5495.5, 5496.5, 5497.5, 5498.5, 5499.5, 5500.5, 5501.5, 5502.5, 5503.5, 5504.5, 5505.5, 5509.5, 5510.5, 5511.5, 5512.5, 5513.5, 5514.5, 5515.5, 5516.5, 5517.5, 5518.5, 5521.5, 5522.5, 5524.5, 5525.5, 5527.5, 5528.5, 5529.5, 5530.5, 5531.5, 5532.5, 5533.5, 5534.5, 5535.5, 5536.5, 5537.5, 5538.5, 5540.5, 5541.5, 5542.5, 5543.5, 5544.5, 5545.5, 5546.5, 5547.5, 5548.5, 5549.5, 5551.5, 5552.5, 5553.5, 5554.5, 5555.5, 5556.5, 5557.5, 5558.5, 5559.5, 5560.5, 5562.5, 5563.5, 5564.5, 5565.5, 5566.5, 5567.5, 5568.5, 5569.5, 5570.5, 5571.5, 5572.5, 5573.5, 5574.5, 5576.5, 5577.5, 5578.5, 5579.5, 5580.5, 5581.5, 5582.5, 5583.5, 5584.5, 5586.5, 5587.5, 5588.5, 5590.5, 5591.5, 5592.5, 5593.5, 5594.5, 5596.5, 5597.5, 5598.5, 5599.5, 5600.5, 5601.5, 5602.5, 5603.5, 5604.5, 5607.5, 5608.5, 5609.5, 5610.5, 5611.5, 5613.5, 5614.5, 5615.5, 5616.5, 5617.5, 5618.5, 5619.5, 5620.5, 5621.5, 5622.5, 5623.5, 5624.5, 5625.5, 5627.5, 5628.5, 5629.5, 5630.5, 5631.5, 5635.5, 5636.5, 5637.5, 5638.5, 5640.5, 5641.5, 5642.5, 5643.5, 5644.5, 5645.5, 5647.5, 5648.5, 5650.5, 5651.5, 5652.5, 5653.5, 5654.5, 5655.5, 5656.5, 5657.5, 5658.5, 5659.5, 5660.5, 5663.5, 5664.5, 5665.5, 5666.5, 5667.5, 5669.5, 5670.5, 5671.5, 5672.5, 5673.5, 5674.5, 5675.5, 5677.5, 5678.5, 5679.5, 5680.5, 5682.5, 5683.5, 5684.5, 5685.5, 5687.5, 5688.5, 5689.5, 5690.5, 5691.5, 5692.5, 5693.5, 5694.5, 5696.5, 5697.5, 5698.5, 5699.5, 5700.5, 5701.5, 5702.5, 5703.5, 5705.5, 5706.5, 5707.5, 5708.5, 5709.5, 5711.5, 5712.5, 5713.5, 5714.5, 5715.5, 5717.5, 5718.5, 5719.5, 5720.5, 5721.5, 5722.5, 5723.5, 5724.5, 5725.5, 5726.5, 5727.5, 5728.5, 5729.5, 5730.5, 5731.5, 5732.5, 5733.5, 5734.5, 5735.5, 5736.5, 5737.5, 5739.5, 5740.5, 5741.5, 5742.5, 5743.5, 5744.5, 5745.5, 5747.5, 5748.5, 5750.5, 5753.5, 5755.5, 5756.5, 5759.5, 5760.5, 5762.5, 5763.5, 5764.5, 5765.5, 5767.5, 5768.5, 5770.5, 5774.5, 5775.5, 5776.5, 5777.5, 5778.5, 5780.5, 5781.5, 5782.5, 5784.5, 5786.5, 5788.5, 5789.5, 5790.5, 5793.5, 5794.5, 5795.5, 5796.5, 5797.5, 5798.5, 5799.5, 5801.5, 5802.5, 5803.5, 5804.5, 5805.5, 5807.5, 5808.5, 5809.5, 5810.5, 5811.5, 5812.5, 5813.5, 5815.5, 5816.5, 5817.5, 5818.5, 5819.5, 5820.5, 5821.5, 5823.5, 5824.5, 5825.5, 5826.5, 5827.5, 5828.5, 5829.5, 5830.5, 5832.5, 5833.5, 5834.5, 5835.5, 5836.5, 5839.5, 5840.5, 5841.5, 5842.5, 5844.5, 5845.5, 5848.5, 5849.5, 5850.5, 5851.5, 5852.5, 5853.5, 5854.5, 5855.5, 5857.5, 5858.5, 5859.5, 5860.5, 5861.5, 5862.5, 5863.5, 5864.5, 5865.5, 5868.5, 5869.5, 5871.5, 5872.5, 5874.5, 5875.5, 5876.5, 5877.5, 5878.5, 5879.5, 5880.5, 5882.5, 5883.5, 5884.5, 5885.5, 5886.5, 5887.5, 5889.5, 5890.5, 5891.5, 5892.5, 5893.5, 5895.5, 5896.5, 5897.5, 5898.5, 5899.5, 5900.5, 5905.5, 5906.5, 5907.5, 5909.5, 5910.5, 5912.5, 5915.5, 5916.5, 5919.5, 5920.5, 5922.5, 5923.5, 5924.5, 5925.5, 5927.5, 5928.5, 5929.5, 5930.5, 5932.5, 5934.5, 5935.5, 5936.5, 5937.5, 5938.5, 5939.5, 5940.5, 5941.5, 5942.5, 5943.5, 5946.5, 5947.5, 5948.5, 5949.5, 5950.5, 5951.5, 5952.5, 5954.5, 5955.5, 5956.5, 5957.5, 5959.5, 5960.5, 5961.5, 5962.5, 5963.5, 5964.5, 5965.5, 5966.5, 5967.5, 5968.5, 5970.5, 5971.5, 5973.5, 5974.5, 5975.5, 5977.5, 5978.5, 5979.5, 5980.5, 5982.5, 5983.5, 5984.5, 5986.5, 5987.5, 5989.5, 5990.5, 5991.5, 5992.5, 5993.5, 5995.5, 5996.5, 5997.5, 5998.5, 5999.5, 6002.5, 6003.5, 6004.5, 6005.5, 6006.5, 6007.5, 6010.5, 6012.5, 6015.5, 6016.5, 6019.5, 6020.5, 6021.5, 6025.5, 6026.5, 6029.5, 6033.5, 6034.5, 6035.5, 6036.5, 6040.5, 6043.5, 6045.5, 6054.5, 6055.5, 6057.5, 6058.5, 6064.5, 6066.5, 6071.5, 6073.5, 6082.5, 6083.5, 6086.5, 6087.5, 6105.5, 6106.5, 6114.5, 6115.5, 6126.5, 6127.5, 6131.5, 6132.5, 6137.5, 6138.5, 6143.5, 6144.5, 6149.5, 6150.5, 6171.5, 6172.5, 6184.5, 6185.5, 6188.5, 6189.5, 6191.5, 6192.5, 6213.5, 6214.5, 6216.5, 6217.5, 6232.5, 6271.5, 6272.5, 6278.5, 6279.5, 6312.5, 6313.5, 6336.5, 6337.5, 6352.5, 6353.5, 6393.5, 6394.5]\n"
     ]
    }
   ],
   "source": [
    "#data1['Dose'].astype(float)\n",
    "#datas=[data[data.Structure_Name==structure]for structure in data.Structure_Name.unique()]\n",
    "#print(datas[1])\n",
    "datas1[1].info()\n",
    "data2=[datas1[1][datas1[1].Dose==dose] for dose in datas[1].Dose.unique()]  \n",
    "#pd.DataFrame(data2)\n",
    "list_dose=[]\n",
    "for dose in datas[1].Dose.unique():\n",
    "    for dose1 in datas1[1].Dose.unique():\n",
    "        if (dose==dose1):\n",
    "            list_dose.append(dose)\n",
    "print(list_dose)"
   ]
  },
  {
   "cell_type": "code",
   "execution_count": 111,
   "metadata": {},
   "outputs": [
    {
     "name": "stdout",
     "output_type": "stream",
     "text": [
      "5758\n",
      "5758\n",
      "       Structure_Name  Dose   Volume\n",
      "948  BODY(Unsp.Tiss.)   0.0  100.000\n",
      "952  BODY(Unsp.Tiss.)   3.5   99.419\n",
      "953  BODY(Unsp.Tiss.)   4.5   99.381\n",
      "954  BODY(Unsp.Tiss.)   5.5   99.328\n",
      "955  BODY(Unsp.Tiss.)   6.5   99.247\n",
      "        Structure_Name  Dose   Volume\n",
      "1506  BODY(Unsp.Tiss.)   0.0  100.000\n",
      "1507  BODY(Unsp.Tiss.)   3.5  100.000\n",
      "1508  BODY(Unsp.Tiss.)   4.5  100.000\n",
      "1509  BODY(Unsp.Tiss.)   5.5   99.998\n",
      "1510  BODY(Unsp.Tiss.)   6.5   99.974\n",
      "[200.    199.419 199.381 ...   0.669   0.63    0.629]\n"
     ]
    },
    {
     "data": {
      "text/plain": [
       "<matplotlib.axes._subplots.AxesSubplot at 0xaaeea83a90>"
      ]
     },
     "execution_count": 111,
     "metadata": {},
     "output_type": "execute_result"
    },
    {
     "data": {
      "image/png": "[encoded data removed]",
      "text/plain": [
       "<Figure size 432x288 with 1 Axes>"
      ]
     },
     "metadata": {
      "needs_background": "light"
     },
     "output_type": "display_data"
    }
   ],
   "source": [
    "print(len(list_dose))\n",
    "volume_1=[]\n",
    "volume=[datas[1][datas[1].Dose==dose1].Volume for dose1 in list_dose]\n",
    "print(len(volume))\n",
    "#volume[0].info()\n",
    "x_data=datas[1].loc[datas[1].Dose.isin(list_dose)]\n",
    "y_data=datas1[1].loc[datas1[1].Dose.isin(list_dose)]\n",
    "print(x_data.head(5))\n",
    "print(y_data.head(5))\n",
    "print(x_data.Volume.values+y_data.Volume.values)\n",
    "#for dose1 in list_dose:\n",
    "#    print(datas[1][datas[1].Dose==dose1].Volume)\n",
    "    #volume_1.append(datas[1][datas[1].Dose==dose1].Volume+datas1[1][datas1[1].Dose==dose1].Volume)\n",
    "\n",
    "#print(len(volume_1))\n",
    "#print(volume_1)\n",
    "#+datas1[datas1[1].Dose==list_dose].Volume\n",
    "#print(volume)\n",
    "plt.figure()\n",
    "sns.lineplot(x=x_data.Dose, y=(.1*x_data.Volume.values)+(.9*y_data.Volume.values))\n"
   ]
  },
  {
   "cell_type": "code",
   "execution_count": 54,
   "metadata": {},
   "outputs": [
    {
     "data": {
      "text/html": [
       "<div>\n",
       "<style scoped>\n",
       "    .dataframe tbody tr th:only-of-type {\n",
       "        vertical-align: middle;\n",
       "    }\n",
       "\n",
       "    .dataframe tbody tr th {\n",
       "        vertical-align: top;\n",
       "    }\n",
       "\n",
       "    .dataframe thead th {\n",
       "        text-align: right;\n",
       "    }\n",
       "</style>\n",
       "<table border=\"1\" class=\"dataframe\">\n",
       "  <thead>\n",
       "    <tr style=\"text-align: right;\">\n",
       "      <th></th>\n",
       "      <th>Dose</th>\n",
       "      <th>Volume</th>\n",
       "    </tr>\n",
       "  </thead>\n",
       "  <tbody>\n",
       "    <tr>\n",
       "      <th>count</th>\n",
       "      <td>102270.000000</td>\n",
       "      <td>102270.000000</td>\n",
       "    </tr>\n",
       "    <tr>\n",
       "      <th>mean</th>\n",
       "      <td>4319.750816</td>\n",
       "      <td>55.419440</td>\n",
       "    </tr>\n",
       "    <tr>\n",
       "      <th>std</th>\n",
       "      <td>2093.873449</td>\n",
       "      <td>34.850972</td>\n",
       "    </tr>\n",
       "    <tr>\n",
       "      <th>min</th>\n",
       "      <td>0.000000</td>\n",
       "      <td>0.000000</td>\n",
       "    </tr>\n",
       "    <tr>\n",
       "      <th>25%</th>\n",
       "      <td>2686.500000</td>\n",
       "      <td>16.897000</td>\n",
       "    </tr>\n",
       "    <tr>\n",
       "      <th>50%</th>\n",
       "      <td>4680.000000</td>\n",
       "      <td>64.699000</td>\n",
       "    </tr>\n",
       "    <tr>\n",
       "      <th>75%</th>\n",
       "      <td>6215.500000</td>\n",
       "      <td>85.745000</td>\n",
       "    </tr>\n",
       "    <tr>\n",
       "      <th>max</th>\n",
       "      <td>7334.000000</td>\n",
       "      <td>100.000000</td>\n",
       "    </tr>\n",
       "  </tbody>\n",
       "</table>\n",
       "</div>"
      ],
      "text/plain": [
       "                Dose         Volume\n",
       "count  102270.000000  102270.000000\n",
       "mean     4319.750816      55.419440\n",
       "std      2093.873449      34.850972\n",
       "min         0.000000       0.000000\n",
       "25%      2686.500000      16.897000\n",
       "50%      4680.000000      64.699000\n",
       "75%      6215.500000      85.745000\n",
       "max      7334.000000     100.000000"
      ]
     },
     "execution_count": 54,
     "metadata": {},
     "output_type": "execute_result"
    }
   ],
   "source": [
    "data1.describe()"
   ]
  },
  {
   "cell_type": "code",
   "execution_count": 63,
   "metadata": {},
   "outputs": [
    {
     "ename": "AttributeError",
     "evalue": "'DataFrameGroupBy' object has no attribute 'count_values'",
     "output_type": "error",
     "traceback": [
      "\u001b[1;31m---------------------------------------------------------------------------\u001b[0m",
      "\u001b[1;31mAttributeError\u001b[0m                            Traceback (most recent call last)",
      "\u001b[1;32m<ipython-input-63-a99ce2785dd0>\u001b[0m in \u001b[0;36m<module>\u001b[1;34m\u001b[0m\n\u001b[1;32m----> 1\u001b[1;33m \u001b[0mdata1\u001b[0m\u001b[1;33m.\u001b[0m\u001b[0mgroupby\u001b[0m\u001b[1;33m(\u001b[0m\u001b[1;34m'Structure Name'\u001b[0m\u001b[1;33m)\u001b[0m\u001b[1;33m.\u001b[0m\u001b[0mcount_values\u001b[0m\u001b[1;33m(\u001b[0m\u001b[1;33m)\u001b[0m\u001b[1;33m\u001b[0m\u001b[1;33m\u001b[0m\u001b[0m\n\u001b[0m",
      "\u001b[1;32m~\\anaconda3\\lib\\site-packages\\pandas\\core\\groupby\\groupby.py\u001b[0m in \u001b[0;36m__getattr__\u001b[1;34m(self, attr)\u001b[0m\n\u001b[0;32m    578\u001b[0m             \u001b[1;32mreturn\u001b[0m \u001b[0mself\u001b[0m\u001b[1;33m[\u001b[0m\u001b[0mattr\u001b[0m\u001b[1;33m]\u001b[0m\u001b[1;33m\u001b[0m\u001b[1;33m\u001b[0m\u001b[0m\n\u001b[0;32m    579\u001b[0m \u001b[1;33m\u001b[0m\u001b[0m\n\u001b[1;32m--> 580\u001b[1;33m         raise AttributeError(\n\u001b[0m\u001b[0;32m    581\u001b[0m             \u001b[1;34mf\"'{type(self).__name__}' object has no attribute '{attr}'\"\u001b[0m\u001b[1;33m\u001b[0m\u001b[1;33m\u001b[0m\u001b[0m\n\u001b[0;32m    582\u001b[0m         )\n",
      "\u001b[1;31mAttributeError\u001b[0m: 'DataFrameGroupBy' object has no attribute 'count_values'"
     ]
    }
   ],
   "source": []
  },
  {
   "cell_type": "code",
   "execution_count": null,
   "metadata": {},
   "outputs": [],
   "source": []
  }
 ],
 "metadata": {
  "kernelspec": {
   "display_name": "Python 3",
   "language": "python",
   "name": "python3"
  },
  "language_info": {
   "codemirror_mode": {
    "name": "ipython",
    "version": 3
   },
   "file_extension": ".py",
   "mimetype": "text/x-python",
   "name": "python",
   "nbconvert_exporter": "python",
   "pygments_lexer": "ipython3",
   "version": "3.8.3"
  }
 },
 "nbformat": 4,
 "nbformat_minor": 4
}
